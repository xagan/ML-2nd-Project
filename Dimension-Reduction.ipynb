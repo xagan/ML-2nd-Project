{
 "cells": [
  {
   "cell_type": "markdown",
   "metadata": {},
   "source": [
    "# The purpose of this code is review types of dimension reductions in machine learning."
   ]
  },
  {
   "cell_type": "code",
   "execution_count": 185,
   "metadata": {
    "_cell_guid": "b1076dfc-b9ad-4769-8c92-a6c4dae69d19",
    "_uuid": "8f2839f25d086af736a60e9eeb907d3b93b6e0e5",
    "ExecuteTime": {
     "end_time": "2024-04-26T12:07:14.867136600Z",
     "start_time": "2024-04-26T12:07:14.524826100Z"
    }
   },
   "outputs": [],
   "source": [
    "import os\n",
    "import pandas as pd\n",
    "import sklearn \n",
    "from sklearn.model_selection import train_test_split\n",
    "from sklearn.naive_bayes import GaussianNB\n",
    "from sklearn.metrics import accuracy_score\n",
    "import decimal"
   ]
  },
  {
   "cell_type": "code",
   "execution_count": 186,
   "metadata": {
    "ExecuteTime": {
     "end_time": "2024-04-26T12:07:14.936705800Z",
     "start_time": "2024-04-26T12:07:14.868135Z"
    }
   },
   "outputs": [],
   "source": [
    "df = pd.read_csv(\"all_data.csv\")"
   ]
  },
  {
   "cell_type": "code",
   "execution_count": 187,
   "metadata": {
    "ExecuteTime": {
     "end_time": "2024-04-26T12:07:14.969544400Z",
     "start_time": "2024-04-26T12:07:14.892154400Z"
    }
   },
   "outputs": [
    {
     "name": "stdout",
     "output_type": "stream",
     "text": [
      "Dataframe shape : (4424, 38)\n"
     ]
    }
   ],
   "source": [
    "print(f\"Dataframe shape : {df.shape}\")"
   ]
  },
  {
   "cell_type": "code",
   "execution_count": 188,
   "metadata": {
    "ExecuteTime": {
     "end_time": "2024-04-26T12:07:15.002545600Z",
     "start_time": "2024-04-26T12:07:14.943215100Z"
    }
   },
   "outputs": [
    {
     "data": {
      "text/plain": "   Unnamed: 0  Marital status  Application mode  Application order  Course  \\\n0           0               1                17                  5     171   \n1           1               1                15                  1    9254   \n2           2               1                 1                  5    9070   \n3           3               1                17                  2    9773   \n4           4               2                39                  1    8014   \n\n   Daytime/evening attendance\"\"  Previous qualification  \\\n0                             1                       1   \n1                             1                       1   \n2                             1                       1   \n3                             1                       1   \n4                             0                       1   \n\n   Previous qualification (grade)  Nacionality  Mother\\'s qualification  ...  \\\n0                           122.0            1                       19  ...   \n1                           160.0            1                        1  ...   \n2                           122.0            1                       37  ...   \n3                           122.0            1                       38  ...   \n4                           100.0            1                       37  ...   \n\n   Curricular units 2nd sem (credited)  Curricular units 2nd sem (enrolled)  \\\n0                                    0                                    0   \n1                                    0                                    6   \n2                                    0                                    6   \n3                                    0                                    6   \n4                                    0                                    6   \n\n   Curricular units 2nd sem (evaluations)  \\\n0                                       0   \n1                                       6   \n2                                       0   \n3                                      10   \n4                                       6   \n\n   Curricular units 2nd sem (approved)  Curricular units 2nd sem (grade)  \\\n0                                    0                          0.000000   \n1                                    6                         13.666667   \n2                                    0                          0.000000   \n3                                    5                         12.400000   \n4                                    6                         13.000000   \n\n   Curricular units 2nd sem (without evaluations)  Unemployment rate  \\\n0                                               0               10.8   \n1                                               0               13.9   \n2                                               0               10.8   \n3                                               0                9.4   \n4                                               0               13.9   \n\n   Inflation rate   GDP    Target  \n0             1.4  1.74   Dropout  \n1            -0.3  0.79  Graduate  \n2             1.4  1.74   Dropout  \n3            -0.8 -3.12  Graduate  \n4            -0.3  0.79  Graduate  \n\n[5 rows x 38 columns]",
      "text/html": "<div>\n<style scoped>\n    .dataframe tbody tr th:only-of-type {\n        vertical-align: middle;\n    }\n\n    .dataframe tbody tr th {\n        vertical-align: top;\n    }\n\n    .dataframe thead th {\n        text-align: right;\n    }\n</style>\n<table border=\"1\" class=\"dataframe\">\n  <thead>\n    <tr style=\"text-align: right;\">\n      <th></th>\n      <th>Unnamed: 0</th>\n      <th>Marital status</th>\n      <th>Application mode</th>\n      <th>Application order</th>\n      <th>Course</th>\n      <th>Daytime/evening attendance\"\"</th>\n      <th>Previous qualification</th>\n      <th>Previous qualification (grade)</th>\n      <th>Nacionality</th>\n      <th>Mother\\'s qualification</th>\n      <th>...</th>\n      <th>Curricular units 2nd sem (credited)</th>\n      <th>Curricular units 2nd sem (enrolled)</th>\n      <th>Curricular units 2nd sem (evaluations)</th>\n      <th>Curricular units 2nd sem (approved)</th>\n      <th>Curricular units 2nd sem (grade)</th>\n      <th>Curricular units 2nd sem (without evaluations)</th>\n      <th>Unemployment rate</th>\n      <th>Inflation rate</th>\n      <th>GDP</th>\n      <th>Target</th>\n    </tr>\n  </thead>\n  <tbody>\n    <tr>\n      <th>0</th>\n      <td>0</td>\n      <td>1</td>\n      <td>17</td>\n      <td>5</td>\n      <td>171</td>\n      <td>1</td>\n      <td>1</td>\n      <td>122.0</td>\n      <td>1</td>\n      <td>19</td>\n      <td>...</td>\n      <td>0</td>\n      <td>0</td>\n      <td>0</td>\n      <td>0</td>\n      <td>0.000000</td>\n      <td>0</td>\n      <td>10.8</td>\n      <td>1.4</td>\n      <td>1.74</td>\n      <td>Dropout</td>\n    </tr>\n    <tr>\n      <th>1</th>\n      <td>1</td>\n      <td>1</td>\n      <td>15</td>\n      <td>1</td>\n      <td>9254</td>\n      <td>1</td>\n      <td>1</td>\n      <td>160.0</td>\n      <td>1</td>\n      <td>1</td>\n      <td>...</td>\n      <td>0</td>\n      <td>6</td>\n      <td>6</td>\n      <td>6</td>\n      <td>13.666667</td>\n      <td>0</td>\n      <td>13.9</td>\n      <td>-0.3</td>\n      <td>0.79</td>\n      <td>Graduate</td>\n    </tr>\n    <tr>\n      <th>2</th>\n      <td>2</td>\n      <td>1</td>\n      <td>1</td>\n      <td>5</td>\n      <td>9070</td>\n      <td>1</td>\n      <td>1</td>\n      <td>122.0</td>\n      <td>1</td>\n      <td>37</td>\n      <td>...</td>\n      <td>0</td>\n      <td>6</td>\n      <td>0</td>\n      <td>0</td>\n      <td>0.000000</td>\n      <td>0</td>\n      <td>10.8</td>\n      <td>1.4</td>\n      <td>1.74</td>\n      <td>Dropout</td>\n    </tr>\n    <tr>\n      <th>3</th>\n      <td>3</td>\n      <td>1</td>\n      <td>17</td>\n      <td>2</td>\n      <td>9773</td>\n      <td>1</td>\n      <td>1</td>\n      <td>122.0</td>\n      <td>1</td>\n      <td>38</td>\n      <td>...</td>\n      <td>0</td>\n      <td>6</td>\n      <td>10</td>\n      <td>5</td>\n      <td>12.400000</td>\n      <td>0</td>\n      <td>9.4</td>\n      <td>-0.8</td>\n      <td>-3.12</td>\n      <td>Graduate</td>\n    </tr>\n    <tr>\n      <th>4</th>\n      <td>4</td>\n      <td>2</td>\n      <td>39</td>\n      <td>1</td>\n      <td>8014</td>\n      <td>0</td>\n      <td>1</td>\n      <td>100.0</td>\n      <td>1</td>\n      <td>37</td>\n      <td>...</td>\n      <td>0</td>\n      <td>6</td>\n      <td>6</td>\n      <td>6</td>\n      <td>13.000000</td>\n      <td>0</td>\n      <td>13.9</td>\n      <td>-0.3</td>\n      <td>0.79</td>\n      <td>Graduate</td>\n    </tr>\n  </tbody>\n</table>\n<p>5 rows × 38 columns</p>\n</div>"
     },
     "execution_count": 188,
     "metadata": {},
     "output_type": "execute_result"
    }
   ],
   "source": [
    "df.head()"
   ]
  },
  {
   "cell_type": "code",
   "execution_count": 189,
   "metadata": {
    "ExecuteTime": {
     "end_time": "2024-04-26T12:07:15.053211900Z",
     "start_time": "2024-04-26T12:07:14.986035800Z"
    }
   },
   "outputs": [
    {
     "name": "stdout",
     "output_type": "stream",
     "text": [
      "['Dropout', 'Graduate', 'Enrolled']\n"
     ]
    }
   ],
   "source": [
    "list_of_activity = df[\"Target\"].unique().tolist() \n",
    "print(list_of_activity)"
   ]
  },
  {
   "cell_type": "code",
   "execution_count": 190,
   "metadata": {
    "ExecuteTime": {
     "end_time": "2024-04-26T12:07:15.122983900Z",
     "start_time": "2024-04-26T12:07:15.022558800Z"
    }
   },
   "outputs": [
    {
     "name": "stdout",
     "output_type": "stream",
     "text": [
      "(4424, 37)\n"
     ]
    }
   ],
   "source": [
    "X = df.drop(columns = \"Target\")\n",
    "print(X.shape)"
   ]
  },
  {
   "cell_type": "code",
   "execution_count": 191,
   "metadata": {
    "ExecuteTime": {
     "end_time": "2024-04-26T12:07:15.179171500Z",
     "start_time": "2024-04-26T12:07:15.104752900Z"
    }
   },
   "outputs": [
    {
     "name": "stdout",
     "output_type": "stream",
     "text": [
      "(4424,)\n"
     ]
    }
   ],
   "source": [
    "y = df[\"Target\"]\n",
    "print(y.shape)"
   ]
  },
  {
   "cell_type": "code",
   "execution_count": 192,
   "metadata": {
    "ExecuteTime": {
     "end_time": "2024-04-26T12:07:15.260760100Z",
     "start_time": "2024-04-26T12:07:15.181173Z"
    }
   },
   "outputs": [],
   "source": [
    "X_train, X_test,y_train, y_test = train_test_split(X,y, test_size=0.2, shuffle=True)"
   ]
  },
  {
   "cell_type": "code",
   "execution_count": 193,
   "metadata": {
    "ExecuteTime": {
     "end_time": "2024-04-26T12:07:15.315458300Z",
     "start_time": "2024-04-26T12:07:15.248249900Z"
    }
   },
   "outputs": [
    {
     "data": {
      "text/plain": "(3539, 37)"
     },
     "execution_count": 193,
     "metadata": {},
     "output_type": "execute_result"
    }
   ],
   "source": [
    "X_train.shape"
   ]
  },
  {
   "cell_type": "code",
   "execution_count": 194,
   "metadata": {
    "ExecuteTime": {
     "end_time": "2024-04-26T12:07:15.330972600Z",
     "start_time": "2024-04-26T12:07:15.280424Z"
    }
   },
   "outputs": [
    {
     "data": {
      "text/plain": "(885, 37)"
     },
     "execution_count": 194,
     "metadata": {},
     "output_type": "execute_result"
    }
   ],
   "source": [
    "X_test.shape"
   ]
  },
  {
   "cell_type": "code",
   "execution_count": 195,
   "metadata": {
    "ExecuteTime": {
     "end_time": "2024-04-26T12:07:15.365011600Z",
     "start_time": "2024-04-26T12:07:15.323463Z"
    }
   },
   "outputs": [
    {
     "data": {
      "text/plain": "(3539,)"
     },
     "execution_count": 195,
     "metadata": {},
     "output_type": "execute_result"
    }
   ],
   "source": [
    "y_train.shape"
   ]
  },
  {
   "cell_type": "code",
   "execution_count": 196,
   "metadata": {
    "ExecuteTime": {
     "end_time": "2024-04-26T12:07:15.433986500Z",
     "start_time": "2024-04-26T12:07:15.360014Z"
    }
   },
   "outputs": [
    {
     "data": {
      "text/plain": "(885,)"
     },
     "execution_count": 196,
     "metadata": {},
     "output_type": "execute_result"
    }
   ],
   "source": [
    "y_test.shape"
   ]
  },
  {
   "cell_type": "code",
   "execution_count": 197,
   "metadata": {
    "ExecuteTime": {
     "end_time": "2024-04-26T12:07:15.456702300Z",
     "start_time": "2024-04-26T12:07:15.407096700Z"
    }
   },
   "outputs": [],
   "source": [
    "GNB_classifer = GaussianNB()"
   ]
  },
  {
   "cell_type": "code",
   "execution_count": 198,
   "metadata": {
    "ExecuteTime": {
     "end_time": "2024-04-26T12:07:15.508442Z",
     "start_time": "2024-04-26T12:07:15.458703300Z"
    }
   },
   "outputs": [],
   "source": [
    "fitted_GNB = GNB_classifer.fit(X_train, y_train)"
   ]
  },
  {
   "cell_type": "code",
   "execution_count": 199,
   "metadata": {
    "ExecuteTime": {
     "end_time": "2024-04-26T12:07:15.550076700Z",
     "start_time": "2024-04-26T12:07:15.490169100Z"
    }
   },
   "outputs": [],
   "source": [
    "y_predicted = fitted_GNB.predict(X_test)"
   ]
  },
  {
   "cell_type": "code",
   "execution_count": 200,
   "metadata": {
    "ExecuteTime": {
     "end_time": "2024-04-26T12:07:15.579598300Z",
     "start_time": "2024-04-26T12:07:15.543585Z"
    }
   },
   "outputs": [
    {
     "data": {
      "text/plain": "array(['Graduate', 'Graduate', 'Graduate', 'Enrolled', 'Graduate',\n       'Graduate', 'Graduate', 'Graduate', 'Dropout', 'Graduate',\n       'Graduate', 'Dropout', 'Graduate', 'Graduate', 'Graduate',\n       'Graduate', 'Dropout', 'Enrolled', 'Graduate', 'Dropout',\n       'Graduate', 'Dropout', 'Graduate', 'Dropout', 'Graduate',\n       'Dropout', 'Graduate', 'Dropout', 'Graduate', 'Graduate',\n       'Enrolled', 'Graduate', 'Graduate', 'Graduate', 'Graduate',\n       'Graduate', 'Graduate', 'Dropout', 'Dropout', 'Dropout',\n       'Graduate', 'Dropout', 'Dropout', 'Graduate', 'Graduate',\n       'Enrolled', 'Graduate', 'Dropout', 'Dropout', 'Graduate',\n       'Graduate', 'Dropout', 'Enrolled', 'Dropout', 'Graduate',\n       'Graduate', 'Graduate', 'Graduate', 'Graduate', 'Dropout',\n       'Enrolled', 'Dropout', 'Dropout', 'Graduate', 'Dropout',\n       'Enrolled', 'Graduate', 'Graduate', 'Graduate', 'Graduate',\n       'Graduate', 'Dropout', 'Graduate', 'Graduate', 'Graduate',\n       'Graduate', 'Graduate', 'Graduate', 'Graduate', 'Enrolled',\n       'Graduate', 'Dropout', 'Dropout', 'Enrolled', 'Graduate',\n       'Graduate', 'Enrolled', 'Graduate', 'Graduate', 'Graduate',\n       'Dropout', 'Dropout', 'Graduate', 'Graduate', 'Graduate',\n       'Graduate', 'Graduate', 'Enrolled', 'Graduate', 'Dropout',\n       'Graduate', 'Graduate', 'Graduate', 'Dropout', 'Graduate',\n       'Graduate', 'Dropout', 'Graduate', 'Graduate', 'Dropout',\n       'Enrolled', 'Dropout', 'Enrolled', 'Graduate', 'Graduate',\n       'Enrolled', 'Dropout', 'Enrolled', 'Enrolled', 'Enrolled',\n       'Graduate', 'Graduate', 'Graduate', 'Graduate', 'Graduate',\n       'Graduate', 'Graduate', 'Graduate', 'Enrolled', 'Dropout',\n       'Graduate', 'Graduate', 'Graduate', 'Graduate', 'Graduate',\n       'Graduate', 'Graduate', 'Dropout', 'Graduate', 'Dropout',\n       'Graduate', 'Dropout', 'Graduate', 'Dropout', 'Dropout',\n       'Graduate', 'Dropout', 'Graduate', 'Graduate', 'Graduate',\n       'Graduate', 'Dropout', 'Graduate', 'Dropout', 'Enrolled',\n       'Enrolled', 'Dropout', 'Enrolled', 'Dropout', 'Graduate',\n       'Dropout', 'Graduate', 'Dropout', 'Dropout', 'Graduate',\n       'Graduate', 'Graduate', 'Dropout', 'Graduate', 'Dropout',\n       'Enrolled', 'Graduate', 'Graduate', 'Dropout', 'Graduate',\n       'Dropout', 'Graduate', 'Graduate', 'Graduate', 'Enrolled',\n       'Graduate', 'Dropout', 'Graduate', 'Graduate', 'Graduate',\n       'Dropout', 'Enrolled', 'Graduate', 'Graduate', 'Graduate',\n       'Graduate', 'Enrolled', 'Enrolled', 'Dropout', 'Graduate',\n       'Graduate', 'Graduate', 'Graduate', 'Dropout', 'Dropout',\n       'Graduate', 'Dropout', 'Graduate', 'Dropout', 'Graduate',\n       'Dropout', 'Graduate', 'Graduate', 'Graduate', 'Dropout',\n       'Dropout', 'Graduate', 'Dropout', 'Dropout', 'Dropout', 'Dropout',\n       'Enrolled', 'Enrolled', 'Graduate', 'Graduate', 'Graduate',\n       'Graduate', 'Dropout', 'Graduate', 'Graduate', 'Graduate',\n       'Dropout', 'Graduate', 'Dropout', 'Graduate', 'Dropout',\n       'Graduate', 'Graduate', 'Graduate', 'Graduate', 'Graduate',\n       'Enrolled', 'Dropout', 'Graduate', 'Graduate', 'Dropout',\n       'Dropout', 'Graduate', 'Graduate', 'Graduate', 'Enrolled',\n       'Dropout', 'Dropout', 'Dropout', 'Dropout', 'Graduate', 'Enrolled',\n       'Graduate', 'Enrolled', 'Dropout', 'Graduate', 'Graduate',\n       'Graduate', 'Dropout', 'Dropout', 'Dropout', 'Graduate',\n       'Graduate', 'Graduate', 'Graduate', 'Graduate', 'Dropout',\n       'Graduate', 'Dropout', 'Graduate', 'Dropout', 'Graduate',\n       'Dropout', 'Enrolled', 'Graduate', 'Graduate', 'Graduate',\n       'Graduate', 'Graduate', 'Graduate', 'Dropout', 'Dropout',\n       'Graduate', 'Graduate', 'Graduate', 'Dropout', 'Dropout',\n       'Graduate', 'Enrolled', 'Enrolled', 'Dropout', 'Dropout',\n       'Enrolled', 'Dropout', 'Dropout', 'Graduate', 'Graduate',\n       'Graduate', 'Graduate', 'Graduate', 'Dropout', 'Graduate',\n       'Enrolled', 'Dropout', 'Graduate', 'Graduate', 'Graduate',\n       'Graduate', 'Graduate', 'Enrolled', 'Enrolled', 'Dropout',\n       'Graduate', 'Graduate', 'Enrolled', 'Graduate', 'Dropout',\n       'Graduate', 'Graduate', 'Graduate', 'Dropout', 'Dropout',\n       'Enrolled', 'Graduate', 'Dropout', 'Graduate', 'Graduate',\n       'Dropout', 'Graduate', 'Enrolled', 'Graduate', 'Graduate',\n       'Dropout', 'Dropout', 'Graduate', 'Graduate', 'Graduate',\n       'Graduate', 'Enrolled', 'Dropout', 'Graduate', 'Dropout',\n       'Graduate', 'Dropout', 'Enrolled', 'Graduate', 'Enrolled',\n       'Graduate', 'Dropout', 'Enrolled', 'Graduate', 'Dropout',\n       'Dropout', 'Enrolled', 'Dropout', 'Dropout', 'Dropout', 'Dropout',\n       'Graduate', 'Graduate', 'Graduate', 'Dropout', 'Dropout',\n       'Graduate', 'Graduate', 'Graduate', 'Graduate', 'Dropout',\n       'Graduate', 'Dropout', 'Enrolled', 'Enrolled', 'Dropout',\n       'Graduate', 'Dropout', 'Graduate', 'Dropout', 'Dropout',\n       'Enrolled', 'Graduate', 'Graduate', 'Graduate', 'Graduate',\n       'Dropout', 'Graduate', 'Dropout', 'Graduate', 'Enrolled',\n       'Graduate', 'Graduate', 'Enrolled', 'Graduate', 'Graduate',\n       'Graduate', 'Graduate', 'Dropout', 'Dropout', 'Dropout',\n       'Graduate', 'Graduate', 'Graduate', 'Dropout', 'Dropout',\n       'Enrolled', 'Graduate', 'Graduate', 'Dropout', 'Graduate',\n       'Graduate', 'Dropout', 'Graduate', 'Graduate', 'Graduate',\n       'Enrolled', 'Graduate', 'Dropout', 'Dropout', 'Graduate',\n       'Graduate', 'Graduate', 'Dropout', 'Dropout', 'Graduate',\n       'Graduate', 'Dropout', 'Graduate', 'Graduate', 'Graduate',\n       'Graduate', 'Dropout', 'Dropout', 'Dropout', 'Dropout', 'Graduate',\n       'Graduate', 'Graduate', 'Graduate', 'Graduate', 'Dropout',\n       'Graduate', 'Graduate', 'Dropout', 'Graduate', 'Graduate',\n       'Dropout', 'Graduate', 'Graduate', 'Graduate', 'Graduate',\n       'Graduate', 'Graduate', 'Graduate', 'Enrolled', 'Graduate',\n       'Graduate', 'Graduate', 'Dropout', 'Dropout', 'Dropout',\n       'Graduate', 'Dropout', 'Graduate', 'Dropout', 'Graduate',\n       'Graduate', 'Dropout', 'Enrolled', 'Graduate', 'Graduate',\n       'Enrolled', 'Dropout', 'Enrolled', 'Dropout', 'Dropout',\n       'Graduate', 'Graduate', 'Graduate', 'Enrolled', 'Graduate',\n       'Graduate', 'Graduate', 'Dropout', 'Graduate', 'Graduate',\n       'Graduate', 'Graduate', 'Graduate', 'Graduate', 'Graduate',\n       'Graduate', 'Dropout', 'Dropout', 'Graduate', 'Graduate',\n       'Graduate', 'Dropout', 'Graduate', 'Dropout', 'Graduate',\n       'Graduate', 'Graduate', 'Graduate', 'Dropout', 'Dropout',\n       'Dropout', 'Graduate', 'Graduate', 'Dropout', 'Dropout', 'Dropout',\n       'Graduate', 'Dropout', 'Graduate', 'Graduate', 'Dropout',\n       'Dropout', 'Dropout', 'Dropout', 'Dropout', 'Enrolled', 'Graduate',\n       'Graduate', 'Graduate', 'Graduate', 'Dropout', 'Graduate',\n       'Graduate', 'Graduate', 'Graduate', 'Graduate', 'Graduate',\n       'Graduate', 'Graduate', 'Graduate', 'Graduate', 'Graduate',\n       'Dropout', 'Graduate', 'Dropout', 'Enrolled', 'Enrolled',\n       'Enrolled', 'Enrolled', 'Graduate', 'Enrolled', 'Dropout',\n       'Dropout', 'Graduate', 'Graduate', 'Dropout', 'Enrolled',\n       'Enrolled', 'Graduate', 'Dropout', 'Dropout', 'Enrolled',\n       'Graduate', 'Graduate', 'Graduate', 'Dropout', 'Graduate',\n       'Graduate', 'Graduate', 'Dropout', 'Enrolled', 'Graduate',\n       'Graduate', 'Graduate', 'Enrolled', 'Graduate', 'Graduate',\n       'Graduate', 'Dropout', 'Dropout', 'Dropout', 'Graduate', 'Dropout',\n       'Enrolled', 'Dropout', 'Graduate', 'Dropout', 'Dropout',\n       'Graduate', 'Dropout', 'Graduate', 'Dropout', 'Graduate',\n       'Graduate', 'Graduate', 'Graduate', 'Graduate', 'Graduate',\n       'Dropout', 'Enrolled', 'Graduate', 'Graduate', 'Graduate',\n       'Graduate', 'Graduate', 'Enrolled', 'Graduate', 'Graduate',\n       'Enrolled', 'Graduate', 'Graduate', 'Graduate', 'Graduate',\n       'Graduate', 'Dropout', 'Dropout', 'Graduate', 'Graduate',\n       'Graduate', 'Graduate', 'Graduate', 'Graduate', 'Graduate',\n       'Dropout', 'Graduate', 'Dropout', 'Graduate', 'Graduate',\n       'Enrolled', 'Graduate', 'Graduate', 'Graduate', 'Graduate',\n       'Enrolled', 'Enrolled', 'Graduate', 'Dropout', 'Dropout',\n       'Graduate', 'Graduate', 'Graduate', 'Graduate', 'Graduate',\n       'Dropout', 'Graduate', 'Graduate', 'Graduate', 'Enrolled',\n       'Graduate', 'Graduate', 'Graduate', 'Dropout', 'Dropout',\n       'Graduate', 'Graduate', 'Graduate', 'Dropout', 'Dropout',\n       'Dropout', 'Graduate', 'Graduate', 'Dropout', 'Graduate',\n       'Dropout', 'Graduate', 'Enrolled', 'Graduate', 'Graduate',\n       'Dropout', 'Graduate', 'Dropout', 'Graduate', 'Dropout',\n       'Graduate', 'Graduate', 'Enrolled', 'Graduate', 'Graduate',\n       'Graduate', 'Enrolled', 'Graduate', 'Enrolled', 'Graduate',\n       'Graduate', 'Graduate', 'Graduate', 'Dropout', 'Enrolled',\n       'Graduate', 'Enrolled', 'Graduate', 'Enrolled', 'Graduate',\n       'Graduate', 'Dropout', 'Enrolled', 'Graduate', 'Dropout',\n       'Graduate', 'Graduate', 'Graduate', 'Graduate', 'Graduate',\n       'Graduate', 'Graduate', 'Dropout', 'Dropout', 'Dropout', 'Dropout',\n       'Dropout', 'Dropout', 'Enrolled', 'Dropout', 'Graduate', 'Dropout',\n       'Graduate', 'Enrolled', 'Dropout', 'Graduate', 'Dropout',\n       'Enrolled', 'Graduate', 'Enrolled', 'Graduate', 'Graduate',\n       'Graduate', 'Enrolled', 'Graduate', 'Graduate', 'Graduate',\n       'Dropout', 'Dropout', 'Graduate', 'Dropout', 'Graduate',\n       'Graduate', 'Dropout', 'Graduate', 'Enrolled', 'Dropout',\n       'Graduate', 'Graduate', 'Dropout', 'Dropout', 'Graduate',\n       'Graduate', 'Graduate', 'Graduate', 'Graduate', 'Graduate',\n       'Graduate', 'Graduate', 'Graduate', 'Enrolled', 'Dropout',\n       'Graduate', 'Dropout', 'Dropout', 'Graduate', 'Graduate',\n       'Dropout', 'Dropout', 'Dropout', 'Graduate', 'Graduate',\n       'Graduate', 'Dropout', 'Graduate', 'Graduate', 'Graduate',\n       'Graduate', 'Graduate', 'Graduate', 'Dropout', 'Graduate',\n       'Graduate', 'Graduate', 'Dropout', 'Graduate', 'Graduate',\n       'Dropout', 'Dropout', 'Dropout', 'Graduate', 'Graduate',\n       'Graduate', 'Graduate', 'Enrolled', 'Enrolled', 'Graduate',\n       'Enrolled', 'Graduate', 'Graduate', 'Dropout', 'Graduate',\n       'Enrolled', 'Dropout', 'Graduate', 'Enrolled', 'Graduate',\n       'Dropout', 'Dropout', 'Graduate', 'Graduate', 'Graduate',\n       'Graduate', 'Graduate', 'Dropout', 'Enrolled', 'Enrolled',\n       'Graduate', 'Dropout', 'Dropout', 'Graduate', 'Graduate',\n       'Graduate', 'Dropout', 'Dropout', 'Enrolled', 'Graduate',\n       'Graduate', 'Dropout', 'Dropout', 'Dropout', 'Dropout', 'Graduate',\n       'Dropout', 'Graduate', 'Graduate', 'Graduate', 'Dropout',\n       'Graduate', 'Dropout', 'Graduate', 'Dropout', 'Enrolled',\n       'Dropout', 'Graduate', 'Graduate', 'Graduate', 'Enrolled',\n       'Graduate', 'Graduate', 'Graduate', 'Graduate', 'Dropout',\n       'Enrolled', 'Graduate', 'Dropout', 'Graduate', 'Enrolled',\n       'Dropout', 'Dropout', 'Graduate', 'Graduate', 'Dropout',\n       'Enrolled', 'Graduate', 'Enrolled', 'Graduate', 'Graduate',\n       'Graduate', 'Dropout', 'Graduate', 'Dropout', 'Dropout',\n       'Graduate', 'Dropout', 'Graduate', 'Graduate', 'Dropout',\n       'Dropout', 'Dropout', 'Graduate', 'Graduate', 'Enrolled',\n       'Dropout', 'Dropout', 'Graduate', 'Dropout', 'Graduate',\n       'Graduate', 'Graduate', 'Graduate', 'Graduate', 'Graduate',\n       'Graduate', 'Graduate', 'Graduate', 'Graduate', 'Enrolled'],\n      dtype='<U8')"
     },
     "execution_count": 200,
     "metadata": {},
     "output_type": "execute_result"
    }
   ],
   "source": [
    "y_predicted"
   ]
  },
  {
   "cell_type": "code",
   "execution_count": 201,
   "metadata": {
    "ExecuteTime": {
     "end_time": "2024-04-26T12:07:15.629497100Z",
     "start_time": "2024-04-26T12:07:15.561693200Z"
    }
   },
   "outputs": [
    {
     "name": "stdout",
     "output_type": "stream",
     "text": [
      "0.6813559322033899\n"
     ]
    }
   ],
   "source": [
    "first_prediction = accuracy_score(y_test, y_predicted)\n",
    "print(first_prediction)"
   ]
  },
  {
   "cell_type": "markdown",
   "metadata": {},
   "source": [
    "# Feature selection"
   ]
  },
  {
   "cell_type": "markdown",
   "metadata": {},
   "source": [
    "**Select K best**"
   ]
  },
  {
   "cell_type": "markdown",
   "metadata": {},
   "source": [
    "f_classif"
   ]
  },
  {
   "cell_type": "code",
   "execution_count": 202,
   "metadata": {
    "ExecuteTime": {
     "end_time": "2024-04-26T12:07:15.751062300Z",
     "start_time": "2024-04-26T12:07:15.602953700Z"
    }
   },
   "outputs": [],
   "source": [
    "from sklearn.feature_selection import SelectKBest\n",
    "from sklearn.feature_selection import f_classif"
   ]
  },
  {
   "cell_type": "code",
   "execution_count": 203,
   "metadata": {
    "ExecuteTime": {
     "end_time": "2024-04-26T12:07:15.847360200Z",
     "start_time": "2024-04-26T12:07:15.659140700Z"
    }
   },
   "outputs": [],
   "source": [
    "feature_selection_SelectKBest_100 = SelectKBest(f_classif, k=10)"
   ]
  },
  {
   "cell_type": "code",
   "execution_count": 204,
   "metadata": {
    "ExecuteTime": {
     "end_time": "2024-04-26T12:07:15.861871Z",
     "start_time": "2024-04-26T12:07:15.820328Z"
    }
   },
   "outputs": [
    {
     "data": {
      "text/plain": "(4424, 10)"
     },
     "execution_count": 204,
     "metadata": {},
     "output_type": "execute_result"
    }
   ],
   "source": [
    "X_feature_selection_f_classif_100 = feature_selection_SelectKBest_100.fit_transform(X, y)\n",
    "X_feature_selection_f_classif_100.shape"
   ]
  },
  {
   "cell_type": "code",
   "execution_count": 205,
   "metadata": {
    "ExecuteTime": {
     "end_time": "2024-04-26T12:07:15.921964200Z",
     "start_time": "2024-04-26T12:07:15.863870700Z"
    }
   },
   "outputs": [],
   "source": [
    "X_train_f_classif_100, X_test_f_classif_100,y_train_f_classif_100, y_test_f_classif_100 = train_test_split(X_feature_selection_f_classif_100,y, test_size=0.2)"
   ]
  },
  {
   "cell_type": "code",
   "execution_count": 206,
   "metadata": {
    "ExecuteTime": {
     "end_time": "2024-04-26T12:07:15.956643500Z",
     "start_time": "2024-04-26T12:07:15.912928100Z"
    }
   },
   "outputs": [
    {
     "name": "stdout",
     "output_type": "stream",
     "text": [
      "X_train_f_classif_100: (3539, 10)\n",
      "X_test_f_classif_100: (885, 10)\n",
      "y_train_f_classif_100: (3539,)\n",
      "y_test_f_classif_100: (885,)\n"
     ]
    }
   ],
   "source": [
    "print(f\"X_train_f_classif_100: {X_train_f_classif_100.shape}\")\n",
    "print(f\"X_test_f_classif_100: {X_test_f_classif_100.shape}\")\n",
    "print(f\"y_train_f_classif_100: {y_train_f_classif_100.shape}\")\n",
    "print(f\"y_test_f_classif_100: {y_test_f_classif_100.shape}\")"
   ]
  },
  {
   "cell_type": "code",
   "execution_count": 207,
   "metadata": {
    "ExecuteTime": {
     "end_time": "2024-04-26T12:07:15.963644400Z",
     "start_time": "2024-04-26T12:07:15.949136300Z"
    }
   },
   "outputs": [],
   "source": [
    "fitted_GNB_f_classif_100 = GNB_classifer.fit(X_train_f_classif_100, y_train_f_classif_100)"
   ]
  },
  {
   "cell_type": "code",
   "execution_count": 208,
   "metadata": {
    "ExecuteTime": {
     "end_time": "2024-04-26T12:07:16.016776600Z",
     "start_time": "2024-04-26T12:07:15.963644400Z"
    }
   },
   "outputs": [],
   "source": [
    "y_predicted_f_classif_100 = fitted_GNB_f_classif_100.predict(X_test_f_classif_100)"
   ]
  },
  {
   "cell_type": "code",
   "execution_count": 209,
   "metadata": {
    "ExecuteTime": {
     "end_time": "2024-04-26T12:07:16.052020500Z",
     "start_time": "2024-04-26T12:07:15.978180Z"
    }
   },
   "outputs": [
    {
     "data": {
      "text/plain": "array(['Graduate', 'Graduate', 'Graduate', 'Graduate', 'Enrolled',\n       'Graduate', 'Dropout', 'Graduate', 'Graduate', 'Graduate',\n       'Graduate', 'Graduate', 'Graduate', 'Graduate', 'Enrolled',\n       'Graduate', 'Graduate', 'Graduate', 'Graduate', 'Dropout',\n       'Enrolled', 'Graduate', 'Graduate', 'Graduate', 'Graduate',\n       'Dropout', 'Graduate', 'Graduate', 'Graduate', 'Graduate',\n       'Graduate', 'Dropout', 'Graduate', 'Graduate', 'Graduate',\n       'Enrolled', 'Graduate', 'Graduate', 'Dropout', 'Dropout',\n       'Dropout', 'Dropout', 'Graduate', 'Graduate', 'Graduate',\n       'Graduate', 'Graduate', 'Dropout', 'Enrolled', 'Dropout',\n       'Dropout', 'Graduate', 'Dropout', 'Enrolled', 'Graduate',\n       'Graduate', 'Graduate', 'Graduate', 'Enrolled', 'Graduate',\n       'Enrolled', 'Enrolled', 'Graduate', 'Dropout', 'Dropout',\n       'Graduate', 'Graduate', 'Graduate', 'Graduate', 'Enrolled',\n       'Dropout', 'Dropout', 'Graduate', 'Dropout', 'Dropout', 'Graduate',\n       'Dropout', 'Graduate', 'Graduate', 'Graduate', 'Graduate',\n       'Dropout', 'Graduate', 'Graduate', 'Graduate', 'Graduate',\n       'Dropout', 'Graduate', 'Graduate', 'Graduate', 'Graduate',\n       'Graduate', 'Dropout', 'Dropout', 'Graduate', 'Graduate',\n       'Graduate', 'Dropout', 'Graduate', 'Graduate', 'Graduate',\n       'Graduate', 'Dropout', 'Graduate', 'Dropout', 'Graduate',\n       'Graduate', 'Dropout', 'Graduate', 'Graduate', 'Graduate',\n       'Dropout', 'Enrolled', 'Graduate', 'Graduate', 'Dropout',\n       'Graduate', 'Graduate', 'Dropout', 'Graduate', 'Graduate',\n       'Graduate', 'Graduate', 'Graduate', 'Graduate', 'Dropout',\n       'Graduate', 'Graduate', 'Graduate', 'Enrolled', 'Graduate',\n       'Graduate', 'Graduate', 'Graduate', 'Graduate', 'Graduate',\n       'Graduate', 'Graduate', 'Graduate', 'Graduate', 'Dropout',\n       'Dropout', 'Graduate', 'Graduate', 'Graduate', 'Graduate',\n       'Graduate', 'Dropout', 'Graduate', 'Graduate', 'Graduate',\n       'Graduate', 'Dropout', 'Graduate', 'Graduate', 'Graduate',\n       'Graduate', 'Graduate', 'Enrolled', 'Enrolled', 'Graduate',\n       'Graduate', 'Graduate', 'Enrolled', 'Graduate', 'Graduate',\n       'Graduate', 'Graduate', 'Graduate', 'Graduate', 'Enrolled',\n       'Graduate', 'Graduate', 'Dropout', 'Dropout', 'Graduate',\n       'Graduate', 'Graduate', 'Enrolled', 'Graduate', 'Dropout',\n       'Graduate', 'Dropout', 'Graduate', 'Enrolled', 'Graduate',\n       'Graduate', 'Dropout', 'Graduate', 'Graduate', 'Dropout',\n       'Graduate', 'Dropout', 'Dropout', 'Graduate', 'Graduate',\n       'Graduate', 'Graduate', 'Dropout', 'Graduate', 'Dropout',\n       'Dropout', 'Graduate', 'Graduate', 'Graduate', 'Graduate',\n       'Dropout', 'Graduate', 'Graduate', 'Graduate', 'Graduate',\n       'Graduate', 'Dropout', 'Graduate', 'Dropout', 'Graduate',\n       'Dropout', 'Dropout', 'Graduate', 'Enrolled', 'Graduate',\n       'Enrolled', 'Graduate', 'Dropout', 'Graduate', 'Graduate',\n       'Enrolled', 'Graduate', 'Graduate', 'Enrolled', 'Graduate',\n       'Graduate', 'Enrolled', 'Graduate', 'Graduate', 'Dropout',\n       'Dropout', 'Graduate', 'Dropout', 'Graduate', 'Graduate',\n       'Graduate', 'Graduate', 'Graduate', 'Dropout', 'Graduate',\n       'Dropout', 'Graduate', 'Graduate', 'Graduate', 'Graduate',\n       'Dropout', 'Graduate', 'Graduate', 'Graduate', 'Dropout',\n       'Dropout', 'Graduate', 'Graduate', 'Enrolled', 'Dropout',\n       'Graduate', 'Enrolled', 'Graduate', 'Graduate', 'Dropout',\n       'Graduate', 'Enrolled', 'Graduate', 'Graduate', 'Graduate',\n       'Dropout', 'Graduate', 'Graduate', 'Dropout', 'Enrolled',\n       'Enrolled', 'Graduate', 'Graduate', 'Dropout', 'Graduate',\n       'Graduate', 'Graduate', 'Dropout', 'Dropout', 'Graduate',\n       'Graduate', 'Graduate', 'Enrolled', 'Graduate', 'Dropout',\n       'Graduate', 'Dropout', 'Enrolled', 'Dropout', 'Graduate',\n       'Dropout', 'Graduate', 'Dropout', 'Graduate', 'Graduate',\n       'Enrolled', 'Graduate', 'Graduate', 'Dropout', 'Graduate',\n       'Graduate', 'Graduate', 'Graduate', 'Graduate', 'Graduate',\n       'Dropout', 'Graduate', 'Graduate', 'Graduate', 'Enrolled',\n       'Graduate', 'Graduate', 'Graduate', 'Dropout', 'Graduate',\n       'Graduate', 'Dropout', 'Graduate', 'Graduate', 'Graduate',\n       'Graduate', 'Graduate', 'Dropout', 'Dropout', 'Graduate',\n       'Graduate', 'Graduate', 'Dropout', 'Graduate', 'Enrolled',\n       'Graduate', 'Graduate', 'Graduate', 'Graduate', 'Graduate',\n       'Dropout', 'Graduate', 'Graduate', 'Dropout', 'Graduate',\n       'Graduate', 'Dropout', 'Dropout', 'Enrolled', 'Graduate',\n       'Graduate', 'Graduate', 'Dropout', 'Graduate', 'Dropout',\n       'Dropout', 'Graduate', 'Enrolled', 'Graduate', 'Enrolled',\n       'Graduate', 'Graduate', 'Graduate', 'Graduate', 'Graduate',\n       'Graduate', 'Enrolled', 'Dropout', 'Graduate', 'Graduate',\n       'Graduate', 'Graduate', 'Graduate', 'Graduate', 'Graduate',\n       'Dropout', 'Dropout', 'Graduate', 'Graduate', 'Graduate',\n       'Graduate', 'Graduate', 'Graduate', 'Graduate', 'Dropout',\n       'Enrolled', 'Graduate', 'Enrolled', 'Enrolled', 'Dropout',\n       'Enrolled', 'Graduate', 'Graduate', 'Dropout', 'Graduate',\n       'Dropout', 'Dropout', 'Graduate', 'Graduate', 'Graduate',\n       'Dropout', 'Dropout', 'Enrolled', 'Graduate', 'Graduate',\n       'Dropout', 'Graduate', 'Graduate', 'Graduate', 'Graduate',\n       'Dropout', 'Graduate', 'Enrolled', 'Dropout', 'Graduate',\n       'Dropout', 'Graduate', 'Graduate', 'Graduate', 'Graduate',\n       'Graduate', 'Graduate', 'Graduate', 'Dropout', 'Graduate',\n       'Graduate', 'Graduate', 'Dropout', 'Graduate', 'Graduate',\n       'Dropout', 'Graduate', 'Dropout', 'Graduate', 'Graduate',\n       'Graduate', 'Dropout', 'Graduate', 'Graduate', 'Graduate',\n       'Graduate', 'Enrolled', 'Graduate', 'Graduate', 'Graduate',\n       'Graduate', 'Graduate', 'Graduate', 'Dropout', 'Graduate',\n       'Dropout', 'Graduate', 'Graduate', 'Graduate', 'Dropout',\n       'Enrolled', 'Graduate', 'Graduate', 'Dropout', 'Dropout',\n       'Enrolled', 'Graduate', 'Dropout', 'Graduate', 'Dropout',\n       'Graduate', 'Graduate', 'Graduate', 'Graduate', 'Graduate',\n       'Dropout', 'Graduate', 'Graduate', 'Dropout', 'Dropout', 'Dropout',\n       'Dropout', 'Graduate', 'Graduate', 'Graduate', 'Graduate',\n       'Graduate', 'Graduate', 'Dropout', 'Graduate', 'Dropout',\n       'Graduate', 'Graduate', 'Dropout', 'Graduate', 'Graduate',\n       'Dropout', 'Dropout', 'Dropout', 'Graduate', 'Dropout', 'Dropout',\n       'Dropout', 'Dropout', 'Graduate', 'Graduate', 'Graduate',\n       'Graduate', 'Dropout', 'Dropout', 'Dropout', 'Graduate', 'Dropout',\n       'Dropout', 'Dropout', 'Graduate', 'Dropout', 'Dropout', 'Enrolled',\n       'Dropout', 'Dropout', 'Graduate', 'Graduate', 'Dropout', 'Dropout',\n       'Graduate', 'Graduate', 'Graduate', 'Dropout', 'Graduate',\n       'Dropout', 'Dropout', 'Enrolled', 'Graduate', 'Graduate',\n       'Graduate', 'Graduate', 'Graduate', 'Graduate', 'Dropout',\n       'Dropout', 'Dropout', 'Graduate', 'Dropout', 'Enrolled', 'Dropout',\n       'Graduate', 'Dropout', 'Graduate', 'Graduate', 'Graduate',\n       'Dropout', 'Dropout', 'Graduate', 'Graduate', 'Graduate',\n       'Graduate', 'Graduate', 'Graduate', 'Graduate', 'Graduate',\n       'Graduate', 'Graduate', 'Dropout', 'Dropout', 'Dropout',\n       'Graduate', 'Graduate', 'Enrolled', 'Dropout', 'Graduate',\n       'Dropout', 'Graduate', 'Dropout', 'Dropout', 'Dropout', 'Dropout',\n       'Graduate', 'Graduate', 'Graduate', 'Graduate', 'Graduate',\n       'Graduate', 'Graduate', 'Graduate', 'Graduate', 'Graduate',\n       'Graduate', 'Graduate', 'Graduate', 'Graduate', 'Dropout',\n       'Graduate', 'Graduate', 'Graduate', 'Dropout', 'Graduate',\n       'Dropout', 'Graduate', 'Graduate', 'Graduate', 'Graduate',\n       'Graduate', 'Dropout', 'Graduate', 'Graduate', 'Graduate',\n       'Graduate', 'Graduate', 'Dropout', 'Dropout', 'Graduate',\n       'Graduate', 'Graduate', 'Graduate', 'Dropout', 'Graduate',\n       'Graduate', 'Dropout', 'Graduate', 'Graduate', 'Graduate',\n       'Graduate', 'Graduate', 'Dropout', 'Dropout', 'Graduate',\n       'Graduate', 'Graduate', 'Graduate', 'Graduate', 'Graduate',\n       'Graduate', 'Graduate', 'Graduate', 'Graduate', 'Dropout',\n       'Dropout', 'Graduate', 'Graduate', 'Dropout', 'Dropout',\n       'Graduate', 'Enrolled', 'Enrolled', 'Dropout', 'Graduate',\n       'Enrolled', 'Dropout', 'Dropout', 'Graduate', 'Graduate',\n       'Graduate', 'Graduate', 'Graduate', 'Graduate', 'Graduate',\n       'Enrolled', 'Dropout', 'Dropout', 'Graduate', 'Graduate',\n       'Graduate', 'Dropout', 'Dropout', 'Dropout', 'Enrolled',\n       'Graduate', 'Graduate', 'Graduate', 'Graduate', 'Graduate',\n       'Graduate', 'Dropout', 'Dropout', 'Graduate', 'Enrolled',\n       'Dropout', 'Dropout', 'Graduate', 'Dropout', 'Graduate',\n       'Graduate', 'Graduate', 'Graduate', 'Graduate', 'Graduate',\n       'Dropout', 'Graduate', 'Graduate', 'Graduate', 'Graduate',\n       'Graduate', 'Graduate', 'Graduate', 'Graduate', 'Graduate',\n       'Graduate', 'Graduate', 'Graduate', 'Graduate', 'Dropout',\n       'Dropout', 'Dropout', 'Graduate', 'Dropout', 'Graduate',\n       'Graduate', 'Dropout', 'Dropout', 'Graduate', 'Graduate',\n       'Dropout', 'Graduate', 'Dropout', 'Dropout', 'Graduate',\n       'Graduate', 'Dropout', 'Graduate', 'Dropout', 'Graduate',\n       'Graduate', 'Dropout', 'Graduate', 'Graduate', 'Graduate',\n       'Graduate', 'Dropout', 'Graduate', 'Graduate', 'Graduate',\n       'Graduate', 'Graduate', 'Graduate', 'Graduate', 'Dropout',\n       'Graduate', 'Dropout', 'Graduate', 'Dropout', 'Dropout', 'Dropout',\n       'Enrolled', 'Graduate', 'Graduate', 'Graduate', 'Graduate',\n       'Graduate', 'Dropout', 'Graduate', 'Dropout', 'Graduate',\n       'Graduate', 'Graduate', 'Graduate', 'Graduate', 'Dropout',\n       'Dropout', 'Graduate', 'Graduate', 'Dropout', 'Dropout',\n       'Graduate', 'Dropout', 'Enrolled', 'Graduate', 'Graduate',\n       'Enrolled', 'Dropout', 'Graduate', 'Dropout', 'Dropout',\n       'Graduate', 'Graduate', 'Dropout', 'Dropout', 'Graduate',\n       'Graduate', 'Graduate', 'Dropout', 'Dropout', 'Graduate',\n       'Graduate', 'Dropout', 'Graduate', 'Graduate', 'Graduate',\n       'Graduate', 'Graduate', 'Graduate', 'Graduate', 'Graduate',\n       'Dropout', 'Dropout', 'Graduate', 'Dropout', 'Graduate',\n       'Graduate', 'Dropout', 'Graduate', 'Graduate', 'Graduate',\n       'Graduate', 'Dropout', 'Graduate', 'Dropout', 'Graduate',\n       'Graduate', 'Graduate', 'Graduate', 'Graduate', 'Graduate',\n       'Dropout', 'Dropout', 'Dropout', 'Dropout', 'Dropout', 'Graduate',\n       'Graduate', 'Dropout', 'Dropout', 'Graduate', 'Dropout',\n       'Graduate', 'Graduate', 'Graduate', 'Enrolled', 'Graduate',\n       'Graduate', 'Graduate', 'Graduate', 'Dropout', 'Graduate',\n       'Graduate', 'Graduate', 'Dropout', 'Dropout', 'Graduate',\n       'Dropout', 'Graduate', 'Dropout', 'Graduate', 'Dropout',\n       'Graduate', 'Dropout', 'Dropout', 'Graduate', 'Graduate',\n       'Graduate', 'Graduate', 'Dropout', 'Dropout', 'Graduate',\n       'Enrolled', 'Graduate', 'Graduate', 'Dropout', 'Graduate',\n       'Graduate', 'Graduate', 'Dropout', 'Enrolled', 'Enrolled',\n       'Graduate', 'Dropout', 'Dropout', 'Graduate', 'Graduate',\n       'Graduate', 'Graduate', 'Graduate', 'Graduate', 'Graduate',\n       'Graduate', 'Dropout', 'Dropout', 'Graduate', 'Graduate',\n       'Graduate', 'Graduate', 'Enrolled', 'Dropout', 'Dropout',\n       'Dropout', 'Dropout', 'Dropout', 'Graduate', 'Graduate'],\n      dtype='<U8')"
     },
     "execution_count": 209,
     "metadata": {},
     "output_type": "execute_result"
    }
   ],
   "source": [
    "    y_predicted_f_classif_100"
   ]
  },
  {
   "cell_type": "code",
   "execution_count": 210,
   "metadata": {
    "ExecuteTime": {
     "end_time": "2024-04-26T12:07:16.093061400Z",
     "start_time": "2024-04-26T12:07:16.030284400Z"
    }
   },
   "outputs": [
    {
     "name": "stdout",
     "output_type": "stream",
     "text": [
      "accuracy_f_classif_100: 0.6949152542372882\n"
     ]
    }
   ],
   "source": [
    "accuracy_prediction_f_classif_100 = accuracy_score(y_test_f_classif_100, y_predicted_f_classif_100)\n",
    "print(f\"accuracy_f_classif_100: {accuracy_prediction_f_classif_100}\")"
   ]
  },
  {
   "cell_type": "code",
   "execution_count": 211,
   "metadata": {
    "ExecuteTime": {
     "end_time": "2024-04-26T12:07:16.125046200Z",
     "start_time": "2024-04-26T12:07:16.066041600Z"
    }
   },
   "outputs": [
    {
     "name": "stdout",
     "output_type": "stream",
     "text": [
      "X_train_f_classif_200: (3539, 20)\n",
      "X_test_f_classif_200: (885, 20)\n",
      "y_train_f_classif_200: (3539,)\n",
      "y_test_f_classif_200: (885,)\n",
      "accuracy_f_classif_200: 0.696045197740113\n"
     ]
    }
   ],
   "source": [
    "    feature_selection_SelectKBest_200 = SelectKBest(f_classif, k=20)\n",
    "    X_feature_selection_f_classif_200 = feature_selection_SelectKBest_200.fit_transform(X, y)\n",
    "    X_feature_selection_f_classif_200.shape\n",
    "    X_train_f_classif_200, X_test_f_classif_200,y_train_f_classif_200, y_test_f_classif_200 = train_test_split(X_feature_selection_f_classif_200,y, test_size=0.2)\n",
    "    print(f\"X_train_f_classif_200: {X_train_f_classif_200.shape}\")\n",
    "    print(f\"X_test_f_classif_200: {X_test_f_classif_200.shape}\")\n",
    "    print(f\"y_train_f_classif_200: {y_train_f_classif_200.shape}\")\n",
    "    print(f\"y_test_f_classif_200: {y_test_f_classif_200.shape}\")\n",
    "    fitted_GNB_f_classif_200 = GNB_classifer.fit(X_train_f_classif_200, y_train_f_classif_200)\n",
    "    y_predicted_f_classif_200 = fitted_GNB_f_classif_200.predict(X_test_f_classif_200)\n",
    "    accuracy_prediction_f_classif_200 = accuracy_score(y_test_f_classif_200, y_predicted_f_classif_200)\n",
    "    print(f\"accuracy_f_classif_200: {accuracy_prediction_f_classif_200}\")"
   ]
  },
  {
   "cell_type": "code",
   "execution_count": 212,
   "metadata": {
    "ExecuteTime": {
     "end_time": "2024-04-26T12:07:16.179766500Z",
     "start_time": "2024-04-26T12:07:16.114967200Z"
    }
   },
   "outputs": [
    {
     "name": "stdout",
     "output_type": "stream",
     "text": [
      "X_train_f_classif_300: (3539, 30)\n",
      "X_test_f_classif_300: (885, 30)\n",
      "y_train_f_classif_300: (3539,)\n",
      "y_test_f_classif_300: (885,)\n",
      "accuracy_f_classif_300: 0.6994350282485876\n"
     ]
    }
   ],
   "source": [
    "feature_selection_SelectKBest_300 = SelectKBest(f_classif, k=30)\n",
    "X_feature_selection_f_classif_300 = feature_selection_SelectKBest_300.fit_transform(X, y)\n",
    "X_feature_selection_f_classif_300.shape\n",
    "X_train_f_classif_300, X_test_f_classif_300,y_train_f_classif_300, y_test_f_classif_300 = train_test_split(X_feature_selection_f_classif_300,y, test_size=0.2)\n",
    "print(f\"X_train_f_classif_300: {X_train_f_classif_300.shape}\")\n",
    "print(f\"X_test_f_classif_300: {X_test_f_classif_300.shape}\")\n",
    "print(f\"y_train_f_classif_300: {y_train_f_classif_300.shape}\")\n",
    "print(f\"y_test_f_classif_300: {y_test_f_classif_300.shape}\")\n",
    "fitted_GNB_f_classif_300 = GNB_classifer.fit(X_train_f_classif_300, y_train_f_classif_300)\n",
    "y_predicted_f_classif_300 = fitted_GNB_f_classif_300.predict(X_test_f_classif_300)\n",
    "accuracy_prediction_f_classif_300 = accuracy_score(y_test_f_classif_300, y_predicted_f_classif_300)\n",
    "print(f\"accuracy_f_classif_300: {accuracy_prediction_f_classif_300}\")"
   ]
  },
  {
   "cell_type": "markdown",
   "source": [],
   "metadata": {
    "collapsed": false
   }
  },
  {
   "cell_type": "code",
   "execution_count": 213,
   "metadata": {
    "ExecuteTime": {
     "end_time": "2024-04-26T12:07:16.268122400Z",
     "start_time": "2024-04-26T12:07:16.146091400Z"
    }
   },
   "outputs": [
    {
     "name": "stdout",
     "output_type": "stream",
     "text": [
      "X_train_f_classif_400: (3539, 36)\n",
      "X_test_f_classif_400: (885, 36)\n",
      "y_train_f_classif_400: (3539,)\n",
      "y_test_f_classif_400: (885,)\n",
      "accuracy_f_classif_400: 0.7028248587570621\n"
     ]
    }
   ],
   "source": [
    "feature_selection_SelectKBest_400 = SelectKBest(f_classif, k=36)\n",
    "X_feature_selection_f_classif_400 = feature_selection_SelectKBest_400.fit_transform(X, y)\n",
    "X_feature_selection_f_classif_400.shape\n",
    "X_train_f_classif_400, X_test_f_classif_400,y_train_f_classif_400, y_test_f_classif_400 = train_test_split(X_feature_selection_f_classif_400,y, test_size=0.2)\n",
    "print(f\"X_train_f_classif_400: {X_train_f_classif_400.shape}\")\n",
    "print(f\"X_test_f_classif_400: {X_test_f_classif_400.shape}\")\n",
    "print(f\"y_train_f_classif_400: {y_train_f_classif_400.shape}\")\n",
    "print(f\"y_test_f_classif_400: {y_test_f_classif_400.shape}\")\n",
    "fitted_GNB_f_classif_400 = GNB_classifer.fit(X_train_f_classif_400, y_train_f_classif_400)\n",
    "y_predicted_f_classif_400 = fitted_GNB_f_classif_400.predict(X_test_f_classif_400)\n",
    "accuracy_prediction_f_classif_400 = accuracy_score(y_test_f_classif_400, y_predicted_f_classif_400)\n",
    "print(f\"accuracy_f_classif_400: {accuracy_prediction_f_classif_400}\")"
   ]
  },
  {
   "cell_type": "code",
   "execution_count": 214,
   "metadata": {
    "ExecuteTime": {
     "end_time": "2024-04-26T12:07:16.297216300Z",
     "start_time": "2024-04-26T12:07:16.183769300Z"
    }
   },
   "outputs": [
    {
     "data": {
      "text/plain": "<Figure size 1000x500 with 1 Axes>",
      "image/png": "[encoded data removed]"
     },
     "metadata": {},
     "output_type": "display_data"
    }
   ],
   "source": [
    "import matplotlib.pyplot as plt\n",
    "\n",
    "execution = (\"original data\", 'accuracy_100','accuracy_200',\n",
    "             'accuracy_300','accuracy_400')\n",
    "accuracy = [float(round(first_prediction*100,2)), float(round(accuracy_prediction_f_classif_100*100,2)), float(round(accuracy_prediction_f_classif_200*100,2)), \n",
    "            float(round(accuracy_prediction_f_classif_300*100,2)), float(round(accuracy_prediction_f_classif_400*100,2))]\n",
    "fig = plt.figure(figsize = (10, 5))\n",
    "plt.bar(execution,accuracy)\n",
    "\n",
    "for index, value in enumerate(accuracy):\n",
    "    plt.text(index, value,str(value))\n",
    "    \n",
    "plt.show()"
   ]
  },
  {
   "cell_type": "markdown",
   "metadata": {},
   "source": [
    "chi2"
   ]
  },
  {
   "cell_type": "code",
   "execution_count": 215,
   "metadata": {
    "ExecuteTime": {
     "end_time": "2024-04-26T12:07:16.310725500Z",
     "start_time": "2024-04-26T12:07:16.282629200Z"
    }
   },
   "outputs": [],
   "source": [
    "from sklearn.feature_selection import chi2"
   ]
  },
  {
   "cell_type": "code",
   "execution_count": 216,
   "metadata": {
    "ExecuteTime": {
     "end_time": "2024-04-26T12:07:16.403471400Z",
     "start_time": "2024-04-26T12:07:16.312726900Z"
    }
   },
   "outputs": [],
   "source": [
    "feature_selection_chi2_100 = SelectKBest(chi2, k=10)"
   ]
  },
  {
   "cell_type": "code",
   "execution_count": 217,
   "metadata": {
    "ExecuteTime": {
     "end_time": "2024-04-26T12:07:16.448958900Z",
     "start_time": "2024-04-26T12:07:16.394958600Z"
    }
   },
   "outputs": [
    {
     "ename": "ValueError",
     "evalue": "Input X must be non-negative.",
     "output_type": "error",
     "traceback": [
      "\u001B[1;31m---------------------------------------------------------------------------\u001B[0m",
      "\u001B[1;31mValueError\u001B[0m                                Traceback (most recent call last)",
      "Cell \u001B[1;32mIn[217], line 1\u001B[0m\n\u001B[1;32m----> 1\u001B[0m X_feature_selection_chi2_100 \u001B[38;5;241m=\u001B[39m \u001B[43mfeature_selection_chi2_100\u001B[49m\u001B[38;5;241;43m.\u001B[39;49m\u001B[43mfit_transform\u001B[49m\u001B[43m(\u001B[49m\u001B[43mX\u001B[49m\u001B[43m,\u001B[49m\u001B[43m \u001B[49m\u001B[43my\u001B[49m\u001B[43m)\u001B[49m\n\u001B[0;32m      2\u001B[0m X_feature_selection_chi2_100\u001B[38;5;241m.\u001B[39mshape\n",
      "File \u001B[1;32mF:\\Uni\\ML-2nd-Project\\.venv\\lib\\site-packages\\sklearn\\utils\\_set_output.py:295\u001B[0m, in \u001B[0;36m_wrap_method_output.<locals>.wrapped\u001B[1;34m(self, X, *args, **kwargs)\u001B[0m\n\u001B[0;32m    293\u001B[0m \u001B[38;5;129m@wraps\u001B[39m(f)\n\u001B[0;32m    294\u001B[0m \u001B[38;5;28;01mdef\u001B[39;00m \u001B[38;5;21mwrapped\u001B[39m(\u001B[38;5;28mself\u001B[39m, X, \u001B[38;5;241m*\u001B[39margs, \u001B[38;5;241m*\u001B[39m\u001B[38;5;241m*\u001B[39mkwargs):\n\u001B[1;32m--> 295\u001B[0m     data_to_wrap \u001B[38;5;241m=\u001B[39m f(\u001B[38;5;28mself\u001B[39m, X, \u001B[38;5;241m*\u001B[39margs, \u001B[38;5;241m*\u001B[39m\u001B[38;5;241m*\u001B[39mkwargs)\n\u001B[0;32m    296\u001B[0m     \u001B[38;5;28;01mif\u001B[39;00m \u001B[38;5;28misinstance\u001B[39m(data_to_wrap, \u001B[38;5;28mtuple\u001B[39m):\n\u001B[0;32m    297\u001B[0m         \u001B[38;5;66;03m# only wrap the first output for cross decomposition\u001B[39;00m\n\u001B[0;32m    298\u001B[0m         return_tuple \u001B[38;5;241m=\u001B[39m (\n\u001B[0;32m    299\u001B[0m             _wrap_data_with_container(method, data_to_wrap[\u001B[38;5;241m0\u001B[39m], X, \u001B[38;5;28mself\u001B[39m),\n\u001B[0;32m    300\u001B[0m             \u001B[38;5;241m*\u001B[39mdata_to_wrap[\u001B[38;5;241m1\u001B[39m:],\n\u001B[0;32m    301\u001B[0m         )\n",
      "File \u001B[1;32mF:\\Uni\\ML-2nd-Project\\.venv\\lib\\site-packages\\sklearn\\base.py:1101\u001B[0m, in \u001B[0;36mTransformerMixin.fit_transform\u001B[1;34m(self, X, y, **fit_params)\u001B[0m\n\u001B[0;32m   1098\u001B[0m     \u001B[38;5;28;01mreturn\u001B[39;00m \u001B[38;5;28mself\u001B[39m\u001B[38;5;241m.\u001B[39mfit(X, \u001B[38;5;241m*\u001B[39m\u001B[38;5;241m*\u001B[39mfit_params)\u001B[38;5;241m.\u001B[39mtransform(X)\n\u001B[0;32m   1099\u001B[0m \u001B[38;5;28;01melse\u001B[39;00m:\n\u001B[0;32m   1100\u001B[0m     \u001B[38;5;66;03m# fit method of arity 2 (supervised transformation)\u001B[39;00m\n\u001B[1;32m-> 1101\u001B[0m     \u001B[38;5;28;01mreturn\u001B[39;00m \u001B[38;5;28mself\u001B[39m\u001B[38;5;241m.\u001B[39mfit(X, y, \u001B[38;5;241m*\u001B[39m\u001B[38;5;241m*\u001B[39mfit_params)\u001B[38;5;241m.\u001B[39mtransform(X)\n",
      "File \u001B[1;32mF:\\Uni\\ML-2nd-Project\\.venv\\lib\\site-packages\\sklearn\\base.py:1474\u001B[0m, in \u001B[0;36m_fit_context.<locals>.decorator.<locals>.wrapper\u001B[1;34m(estimator, *args, **kwargs)\u001B[0m\n\u001B[0;32m   1467\u001B[0m     estimator\u001B[38;5;241m.\u001B[39m_validate_params()\n\u001B[0;32m   1469\u001B[0m \u001B[38;5;28;01mwith\u001B[39;00m config_context(\n\u001B[0;32m   1470\u001B[0m     skip_parameter_validation\u001B[38;5;241m=\u001B[39m(\n\u001B[0;32m   1471\u001B[0m         prefer_skip_nested_validation \u001B[38;5;129;01mor\u001B[39;00m global_skip_validation\n\u001B[0;32m   1472\u001B[0m     )\n\u001B[0;32m   1473\u001B[0m ):\n\u001B[1;32m-> 1474\u001B[0m     \u001B[38;5;28;01mreturn\u001B[39;00m fit_method(estimator, \u001B[38;5;241m*\u001B[39margs, \u001B[38;5;241m*\u001B[39m\u001B[38;5;241m*\u001B[39mkwargs)\n",
      "File \u001B[1;32mF:\\Uni\\ML-2nd-Project\\.venv\\lib\\site-packages\\sklearn\\feature_selection\\_univariate_selection.py:567\u001B[0m, in \u001B[0;36m_BaseFilter.fit\u001B[1;34m(self, X, y)\u001B[0m\n\u001B[0;32m    562\u001B[0m     X, y \u001B[38;5;241m=\u001B[39m \u001B[38;5;28mself\u001B[39m\u001B[38;5;241m.\u001B[39m_validate_data(\n\u001B[0;32m    563\u001B[0m         X, y, accept_sparse\u001B[38;5;241m=\u001B[39m[\u001B[38;5;124m\"\u001B[39m\u001B[38;5;124mcsr\u001B[39m\u001B[38;5;124m\"\u001B[39m, \u001B[38;5;124m\"\u001B[39m\u001B[38;5;124mcsc\u001B[39m\u001B[38;5;124m\"\u001B[39m], multi_output\u001B[38;5;241m=\u001B[39m\u001B[38;5;28;01mTrue\u001B[39;00m\n\u001B[0;32m    564\u001B[0m     )\n\u001B[0;32m    566\u001B[0m \u001B[38;5;28mself\u001B[39m\u001B[38;5;241m.\u001B[39m_check_params(X, y)\n\u001B[1;32m--> 567\u001B[0m score_func_ret \u001B[38;5;241m=\u001B[39m \u001B[38;5;28;43mself\u001B[39;49m\u001B[38;5;241;43m.\u001B[39;49m\u001B[43mscore_func\u001B[49m\u001B[43m(\u001B[49m\u001B[43mX\u001B[49m\u001B[43m,\u001B[49m\u001B[43m \u001B[49m\u001B[43my\u001B[49m\u001B[43m)\u001B[49m\n\u001B[0;32m    568\u001B[0m \u001B[38;5;28;01mif\u001B[39;00m \u001B[38;5;28misinstance\u001B[39m(score_func_ret, (\u001B[38;5;28mlist\u001B[39m, \u001B[38;5;28mtuple\u001B[39m)):\n\u001B[0;32m    569\u001B[0m     \u001B[38;5;28mself\u001B[39m\u001B[38;5;241m.\u001B[39mscores_, \u001B[38;5;28mself\u001B[39m\u001B[38;5;241m.\u001B[39mpvalues_ \u001B[38;5;241m=\u001B[39m score_func_ret\n",
      "File \u001B[1;32mF:\\Uni\\ML-2nd-Project\\.venv\\lib\\site-packages\\sklearn\\utils\\_param_validation.py:186\u001B[0m, in \u001B[0;36mvalidate_params.<locals>.decorator.<locals>.wrapper\u001B[1;34m(*args, **kwargs)\u001B[0m\n\u001B[0;32m    184\u001B[0m global_skip_validation \u001B[38;5;241m=\u001B[39m get_config()[\u001B[38;5;124m\"\u001B[39m\u001B[38;5;124mskip_parameter_validation\u001B[39m\u001B[38;5;124m\"\u001B[39m]\n\u001B[0;32m    185\u001B[0m \u001B[38;5;28;01mif\u001B[39;00m global_skip_validation:\n\u001B[1;32m--> 186\u001B[0m     \u001B[38;5;28;01mreturn\u001B[39;00m func(\u001B[38;5;241m*\u001B[39margs, \u001B[38;5;241m*\u001B[39m\u001B[38;5;241m*\u001B[39mkwargs)\n\u001B[0;32m    188\u001B[0m func_sig \u001B[38;5;241m=\u001B[39m signature(func)\n\u001B[0;32m    190\u001B[0m \u001B[38;5;66;03m# Map *args/**kwargs to the function signature\u001B[39;00m\n",
      "File \u001B[1;32mF:\\Uni\\ML-2nd-Project\\.venv\\lib\\site-packages\\sklearn\\feature_selection\\_univariate_selection.py:266\u001B[0m, in \u001B[0;36mchi2\u001B[1;34m(X, y)\u001B[0m\n\u001B[0;32m    264\u001B[0m X \u001B[38;5;241m=\u001B[39m check_array(X, accept_sparse\u001B[38;5;241m=\u001B[39m\u001B[38;5;124m\"\u001B[39m\u001B[38;5;124mcsr\u001B[39m\u001B[38;5;124m\"\u001B[39m, dtype\u001B[38;5;241m=\u001B[39m(np\u001B[38;5;241m.\u001B[39mfloat64, np\u001B[38;5;241m.\u001B[39mfloat32))\n\u001B[0;32m    265\u001B[0m \u001B[38;5;28;01mif\u001B[39;00m np\u001B[38;5;241m.\u001B[39many((X\u001B[38;5;241m.\u001B[39mdata \u001B[38;5;28;01mif\u001B[39;00m issparse(X) \u001B[38;5;28;01melse\u001B[39;00m X) \u001B[38;5;241m<\u001B[39m \u001B[38;5;241m0\u001B[39m):\n\u001B[1;32m--> 266\u001B[0m     \u001B[38;5;28;01mraise\u001B[39;00m \u001B[38;5;167;01mValueError\u001B[39;00m(\u001B[38;5;124m\"\u001B[39m\u001B[38;5;124mInput X must be non-negative.\u001B[39m\u001B[38;5;124m\"\u001B[39m)\n\u001B[0;32m    268\u001B[0m \u001B[38;5;66;03m# Use a sparse representation for Y by default to reduce memory usage when\u001B[39;00m\n\u001B[0;32m    269\u001B[0m \u001B[38;5;66;03m# y has many unique classes.\u001B[39;00m\n\u001B[0;32m    270\u001B[0m Y \u001B[38;5;241m=\u001B[39m LabelBinarizer(sparse_output\u001B[38;5;241m=\u001B[39m\u001B[38;5;28;01mTrue\u001B[39;00m)\u001B[38;5;241m.\u001B[39mfit_transform(y)\n",
      "\u001B[1;31mValueError\u001B[0m: Input X must be non-negative."
     ]
    }
   ],
   "source": [
    "X_feature_selection_chi2_100 = feature_selection_chi2_100.fit_transform(X, y)\n",
    "X_feature_selection_chi2_100.shape"
   ]
  },
  {
   "cell_type": "code",
   "execution_count": null,
   "metadata": {
    "ExecuteTime": {
     "start_time": "2024-04-26T12:07:16.441170700Z"
    }
   },
   "outputs": [],
   "source": [
    "min_of_columns = X.min()\n",
    "min_of_dataframe = min_of_columns.min()\n",
    "min_of_dataframe"
   ]
  },
  {
   "cell_type": "code",
   "execution_count": null,
   "metadata": {
    "ExecuteTime": {
     "start_time": "2024-04-26T12:07:16.442453500Z"
    }
   },
   "outputs": [],
   "source": [
    "max_of_columns = X.max()\n",
    "max_of_dataframe = max_of_columns.max()\n",
    "max_of_dataframe"
   ]
  },
  {
   "cell_type": "markdown",
   "metadata": {},
   "source": [
    "> solution: MinMaxScaler"
   ]
  },
  {
   "cell_type": "code",
   "execution_count": 218,
   "metadata": {
    "ExecuteTime": {
     "end_time": "2024-04-26T12:07:16.628910700Z",
     "start_time": "2024-04-26T12:07:16.451960700Z"
    }
   },
   "outputs": [
    {
     "data": {
      "text/plain": "      Unnamed: 0  Marital status  Application mode  Application order  \\\n0       0.000000             0.0          0.285714           0.555556   \n1       0.000226             0.0          0.250000           0.111111   \n2       0.000452             0.0          0.000000           0.555556   \n3       0.000678             0.0          0.285714           0.222222   \n4       0.000904             0.2          0.678571           0.111111   \n...          ...             ...               ...                ...   \n4419    0.999096             0.0          0.000000           0.666667   \n4420    0.999322             0.0          0.000000           0.222222   \n4421    0.999548             0.0          0.000000           0.111111   \n4422    0.999774             0.0          0.000000           0.111111   \n4423    1.000000             0.0          0.160714           0.111111   \n\n        Course  Daytime/evening attendance\"\"  Previous qualification  \\\n0     0.013858                           1.0                     0.0   \n1     0.925989                           1.0                     0.0   \n2     0.907512                           1.0                     0.0   \n3     0.978108                           1.0                     0.0   \n4     0.801466                           0.0                     0.0   \n...        ...                           ...                     ...   \n4419  0.978108                           1.0                     0.0   \n4420  0.978108                           1.0                     0.0   \n4421  0.950693                           1.0                     0.0   \n4422  0.915244                           1.0                     0.0   \n4423  0.978108                           1.0                     0.0   \n\n      Previous qualification (grade)  Nacionality  Mother\\'s qualification  \\\n0                           0.284211     0.000000                 0.418605   \n1                           0.684211     0.000000                 0.000000   \n2                           0.284211     0.000000                 0.837209   \n3                           0.284211     0.000000                 0.860465   \n4                           0.052632     0.000000                 0.837209   \n...                              ...          ...                      ...   \n4419                        0.315789     0.000000                 0.000000   \n4420                        0.263158     0.962963                 0.000000   \n4421                        0.621053     0.000000                 0.837209   \n4422                        0.894737     0.000000                 0.837209   \n4423                        0.600000     0.194444                 0.860465   \n\n      ...  Curricular units 1st sem (without evaluations)  \\\n0     ...                                             0.0   \n1     ...                                             0.0   \n2     ...                                             0.0   \n3     ...                                             0.0   \n4     ...                                             0.0   \n...   ...                                             ...   \n4419  ...                                             0.0   \n4420  ...                                             0.0   \n4421  ...                                             0.0   \n4422  ...                                             0.0   \n4423  ...                                             0.0   \n\n      Curricular units 2nd sem (credited)  \\\n0                                     0.0   \n1                                     0.0   \n2                                     0.0   \n3                                     0.0   \n4                                     0.0   \n...                                   ...   \n4419                                  0.0   \n4420                                  0.0   \n4421                                  0.0   \n4422                                  0.0   \n4423                                  0.0   \n\n      Curricular units 2nd sem (enrolled)  \\\n0                                0.000000   \n1                                0.260870   \n2                                0.260870   \n3                                0.260870   \n4                                0.260870   \n...                                   ...   \n4419                             0.260870   \n4420                             0.260870   \n4421                             0.347826   \n4422                             0.217391   \n4423                             0.260870   \n\n      Curricular units 2nd sem (evaluations)  \\\n0                                   0.000000   \n1                                   0.181818   \n2                                   0.000000   \n3                                   0.303030   \n4                                   0.181818   \n...                                      ...   \n4419                                0.242424   \n4420                                0.181818   \n4421                                0.272727   \n4422                                0.181818   \n4423                                0.181818   \n\n      Curricular units 2nd sem (approved)  Curricular units 2nd sem (grade)  \\\n0                                    0.00                          0.000000   \n1                                    0.30                          0.735897   \n2                                    0.00                          0.000000   \n3                                    0.25                          0.667692   \n4                                    0.30                          0.700000   \n...                                   ...                               ...   \n4419                                 0.25                          0.682051   \n4420                                 0.10                          0.592308   \n4421                                 0.05                          0.726923   \n4422                                 0.25                          0.646154   \n4423                                 0.30                          0.700000   \n\n      Curricular units 2nd sem (without evaluations)  Unemployment rate  \\\n0                                                0.0           0.372093   \n1                                                0.0           0.732558   \n2                                                0.0           0.372093   \n3                                                0.0           0.209302   \n4                                                0.0           0.732558   \n...                                              ...                ...   \n4419                                             0.0           0.918605   \n4420                                             0.0           0.406977   \n4421                                             0.0           0.732558   \n4422                                             0.0           0.209302   \n4423                                             0.0           0.593023   \n\n      Inflation rate       GDP  \n0           0.488889  0.766182  \n1           0.111111  0.640687  \n2           0.488889  0.766182  \n3           0.000000  0.124174  \n4           0.111111  0.640687  \n...              ...       ...  \n4419        0.800000  0.000000  \n4420        0.311111  0.803170  \n4421        0.111111  0.640687  \n4422        0.000000  0.124174  \n4423        1.000000  0.311757  \n\n[4424 rows x 37 columns]",
      "text/html": "<div>\n<style scoped>\n    .dataframe tbody tr th:only-of-type {\n        vertical-align: middle;\n    }\n\n    .dataframe tbody tr th {\n        vertical-align: top;\n    }\n\n    .dataframe thead th {\n        text-align: right;\n    }\n</style>\n<table border=\"1\" class=\"dataframe\">\n  <thead>\n    <tr style=\"text-align: right;\">\n      <th></th>\n      <th>Unnamed: 0</th>\n      <th>Marital status</th>\n      <th>Application mode</th>\n      <th>Application order</th>\n      <th>Course</th>\n      <th>Daytime/evening attendance\"\"</th>\n      <th>Previous qualification</th>\n      <th>Previous qualification (grade)</th>\n      <th>Nacionality</th>\n      <th>Mother\\'s qualification</th>\n      <th>...</th>\n      <th>Curricular units 1st sem (without evaluations)</th>\n      <th>Curricular units 2nd sem (credited)</th>\n      <th>Curricular units 2nd sem (enrolled)</th>\n      <th>Curricular units 2nd sem (evaluations)</th>\n      <th>Curricular units 2nd sem (approved)</th>\n      <th>Curricular units 2nd sem (grade)</th>\n      <th>Curricular units 2nd sem (without evaluations)</th>\n      <th>Unemployment rate</th>\n      <th>Inflation rate</th>\n      <th>GDP</th>\n    </tr>\n  </thead>\n  <tbody>\n    <tr>\n      <th>0</th>\n      <td>0.000000</td>\n      <td>0.0</td>\n      <td>0.285714</td>\n      <td>0.555556</td>\n      <td>0.013858</td>\n      <td>1.0</td>\n      <td>0.0</td>\n      <td>0.284211</td>\n      <td>0.000000</td>\n      <td>0.418605</td>\n      <td>...</td>\n      <td>0.0</td>\n      <td>0.0</td>\n      <td>0.000000</td>\n      <td>0.000000</td>\n      <td>0.00</td>\n      <td>0.000000</td>\n      <td>0.0</td>\n      <td>0.372093</td>\n      <td>0.488889</td>\n      <td>0.766182</td>\n    </tr>\n    <tr>\n      <th>1</th>\n      <td>0.000226</td>\n      <td>0.0</td>\n      <td>0.250000</td>\n      <td>0.111111</td>\n      <td>0.925989</td>\n      <td>1.0</td>\n      <td>0.0</td>\n      <td>0.684211</td>\n      <td>0.000000</td>\n      <td>0.000000</td>\n      <td>...</td>\n      <td>0.0</td>\n      <td>0.0</td>\n      <td>0.260870</td>\n      <td>0.181818</td>\n      <td>0.30</td>\n      <td>0.735897</td>\n      <td>0.0</td>\n      <td>0.732558</td>\n      <td>0.111111</td>\n      <td>0.640687</td>\n    </tr>\n    <tr>\n      <th>2</th>\n      <td>0.000452</td>\n      <td>0.0</td>\n      <td>0.000000</td>\n      <td>0.555556</td>\n      <td>0.907512</td>\n      <td>1.0</td>\n      <td>0.0</td>\n      <td>0.284211</td>\n      <td>0.000000</td>\n      <td>0.837209</td>\n      <td>...</td>\n      <td>0.0</td>\n      <td>0.0</td>\n      <td>0.260870</td>\n      <td>0.000000</td>\n      <td>0.00</td>\n      <td>0.000000</td>\n      <td>0.0</td>\n      <td>0.372093</td>\n      <td>0.488889</td>\n      <td>0.766182</td>\n    </tr>\n    <tr>\n      <th>3</th>\n      <td>0.000678</td>\n      <td>0.0</td>\n      <td>0.285714</td>\n      <td>0.222222</td>\n      <td>0.978108</td>\n      <td>1.0</td>\n      <td>0.0</td>\n      <td>0.284211</td>\n      <td>0.000000</td>\n      <td>0.860465</td>\n      <td>...</td>\n      <td>0.0</td>\n      <td>0.0</td>\n      <td>0.260870</td>\n      <td>0.303030</td>\n      <td>0.25</td>\n      <td>0.667692</td>\n      <td>0.0</td>\n      <td>0.209302</td>\n      <td>0.000000</td>\n      <td>0.124174</td>\n    </tr>\n    <tr>\n      <th>4</th>\n      <td>0.000904</td>\n      <td>0.2</td>\n      <td>0.678571</td>\n      <td>0.111111</td>\n      <td>0.801466</td>\n      <td>0.0</td>\n      <td>0.0</td>\n      <td>0.052632</td>\n      <td>0.000000</td>\n      <td>0.837209</td>\n      <td>...</td>\n      <td>0.0</td>\n      <td>0.0</td>\n      <td>0.260870</td>\n      <td>0.181818</td>\n      <td>0.30</td>\n      <td>0.700000</td>\n      <td>0.0</td>\n      <td>0.732558</td>\n      <td>0.111111</td>\n      <td>0.640687</td>\n    </tr>\n    <tr>\n      <th>...</th>\n      <td>...</td>\n      <td>...</td>\n      <td>...</td>\n      <td>...</td>\n      <td>...</td>\n      <td>...</td>\n      <td>...</td>\n      <td>...</td>\n      <td>...</td>\n      <td>...</td>\n      <td>...</td>\n      <td>...</td>\n      <td>...</td>\n      <td>...</td>\n      <td>...</td>\n      <td>...</td>\n      <td>...</td>\n      <td>...</td>\n      <td>...</td>\n      <td>...</td>\n      <td>...</td>\n    </tr>\n    <tr>\n      <th>4419</th>\n      <td>0.999096</td>\n      <td>0.0</td>\n      <td>0.000000</td>\n      <td>0.666667</td>\n      <td>0.978108</td>\n      <td>1.0</td>\n      <td>0.0</td>\n      <td>0.315789</td>\n      <td>0.000000</td>\n      <td>0.000000</td>\n      <td>...</td>\n      <td>0.0</td>\n      <td>0.0</td>\n      <td>0.260870</td>\n      <td>0.242424</td>\n      <td>0.25</td>\n      <td>0.682051</td>\n      <td>0.0</td>\n      <td>0.918605</td>\n      <td>0.800000</td>\n      <td>0.000000</td>\n    </tr>\n    <tr>\n      <th>4420</th>\n      <td>0.999322</td>\n      <td>0.0</td>\n      <td>0.000000</td>\n      <td>0.222222</td>\n      <td>0.978108</td>\n      <td>1.0</td>\n      <td>0.0</td>\n      <td>0.263158</td>\n      <td>0.962963</td>\n      <td>0.000000</td>\n      <td>...</td>\n      <td>0.0</td>\n      <td>0.0</td>\n      <td>0.260870</td>\n      <td>0.181818</td>\n      <td>0.10</td>\n      <td>0.592308</td>\n      <td>0.0</td>\n      <td>0.406977</td>\n      <td>0.311111</td>\n      <td>0.803170</td>\n    </tr>\n    <tr>\n      <th>4421</th>\n      <td>0.999548</td>\n      <td>0.0</td>\n      <td>0.000000</td>\n      <td>0.111111</td>\n      <td>0.950693</td>\n      <td>1.0</td>\n      <td>0.0</td>\n      <td>0.621053</td>\n      <td>0.000000</td>\n      <td>0.837209</td>\n      <td>...</td>\n      <td>0.0</td>\n      <td>0.0</td>\n      <td>0.347826</td>\n      <td>0.272727</td>\n      <td>0.05</td>\n      <td>0.726923</td>\n      <td>0.0</td>\n      <td>0.732558</td>\n      <td>0.111111</td>\n      <td>0.640687</td>\n    </tr>\n    <tr>\n      <th>4422</th>\n      <td>0.999774</td>\n      <td>0.0</td>\n      <td>0.000000</td>\n      <td>0.111111</td>\n      <td>0.915244</td>\n      <td>1.0</td>\n      <td>0.0</td>\n      <td>0.894737</td>\n      <td>0.000000</td>\n      <td>0.837209</td>\n      <td>...</td>\n      <td>0.0</td>\n      <td>0.0</td>\n      <td>0.217391</td>\n      <td>0.181818</td>\n      <td>0.25</td>\n      <td>0.646154</td>\n      <td>0.0</td>\n      <td>0.209302</td>\n      <td>0.000000</td>\n      <td>0.124174</td>\n    </tr>\n    <tr>\n      <th>4423</th>\n      <td>1.000000</td>\n      <td>0.0</td>\n      <td>0.160714</td>\n      <td>0.111111</td>\n      <td>0.978108</td>\n      <td>1.0</td>\n      <td>0.0</td>\n      <td>0.600000</td>\n      <td>0.194444</td>\n      <td>0.860465</td>\n      <td>...</td>\n      <td>0.0</td>\n      <td>0.0</td>\n      <td>0.260870</td>\n      <td>0.181818</td>\n      <td>0.30</td>\n      <td>0.700000</td>\n      <td>0.0</td>\n      <td>0.593023</td>\n      <td>1.000000</td>\n      <td>0.311757</td>\n    </tr>\n  </tbody>\n</table>\n<p>4424 rows × 37 columns</p>\n</div>"
     },
     "execution_count": 218,
     "metadata": {},
     "output_type": "execute_result"
    }
   ],
   "source": [
    "from sklearn.preprocessing import MinMaxScaler\n",
    "\n",
    "\n",
    "scaler = MinMaxScaler()\n",
    "scaler.fit(X)\n",
    "scaled = scaler.fit_transform(X)\n",
    "X_max_min = pd.DataFrame(scaled, columns=X.columns)\n",
    "X_max_min"
   ]
  },
  {
   "cell_type": "code",
   "execution_count": 219,
   "metadata": {
    "ExecuteTime": {
     "end_time": "2024-04-26T12:07:16.650092800Z",
     "start_time": "2024-04-26T12:07:16.481270100Z"
    }
   },
   "outputs": [
    {
     "name": "stdout",
     "output_type": "stream",
     "text": [
      "X_train_chi2_100: (3539, 10)\n",
      "X_test_chi2_100: (885, 10)\n",
      "y_train_chi2_100: (3539,)\n",
      "y_test_chi2_100: (885,)\n",
      "accuracy_chi2_100: 0.6813559322033899\n"
     ]
    }
   ],
   "source": [
    "feature_selection_SelectKBest_100 = SelectKBest(chi2, k=10)\n",
    "X_feature_selection_chi2_100 = feature_selection_SelectKBest_100.fit_transform(X_max_min, y)\n",
    "X_feature_selection_chi2_100.shape\n",
    "X_train_chi2_100, X_test_chi2_100,y_train_chi2_100, y_test_chi2_100 = train_test_split(X_feature_selection_chi2_100,y, test_size=0.2)\n",
    "print(f\"X_train_chi2_100: {X_train_chi2_100.shape}\")\n",
    "print(f\"X_test_chi2_100: {X_test_chi2_100.shape}\")\n",
    "print(f\"y_train_chi2_100: {y_train_chi2_100.shape}\")\n",
    "print(f\"y_test_chi2_100: {y_test_chi2_100.shape}\")\n",
    "fitted_GNB_chi2_100 = GNB_classifer.fit(X_train_chi2_100, y_train_chi2_100)\n",
    "y_predicted_chi2_100 = fitted_GNB_chi2_100.predict(X_test_chi2_100)\n",
    "accuracy_prediction_chi2_100 = accuracy_score(y_test_chi2_100, y_predicted_chi2_100)\n",
    "print(f\"accuracy_chi2_100: {accuracy_prediction_chi2_100}\")"
   ]
  },
  {
   "cell_type": "code",
   "execution_count": 220,
   "metadata": {
    "ExecuteTime": {
     "end_time": "2024-04-26T12:07:16.759991300Z",
     "start_time": "2024-04-26T12:07:16.637423900Z"
    }
   },
   "outputs": [
    {
     "name": "stdout",
     "output_type": "stream",
     "text": [
      "X_train_chi2_200: (3539, 20)\n",
      "X_test_chi2_200: (885, 20)\n",
      "y_train_chi2_200: (3539,)\n",
      "y_test_chi2_200: (885,)\n",
      "accuracy_chi2_200: 0.6892655367231638\n"
     ]
    }
   ],
   "source": [
    "feature_selection_SelectKBest_200 = SelectKBest(chi2, k=20)\n",
    "X_feature_selection_chi2_200 = feature_selection_SelectKBest_200.fit_transform(X_max_min, y)\n",
    "X_feature_selection_chi2_200.shape\n",
    "X_train_chi2_200, X_test_chi2_200,y_train_chi2_200, y_test_chi2_200 = train_test_split(X_feature_selection_chi2_200,y, test_size=0.2)\n",
    "print(f\"X_train_chi2_200: {X_train_chi2_200.shape}\")\n",
    "print(f\"X_test_chi2_200: {X_test_chi2_200.shape}\")\n",
    "print(f\"y_train_chi2_200: {y_train_chi2_200.shape}\")\n",
    "print(f\"y_test_chi2_200: {y_test_chi2_200.shape}\")\n",
    "fitted_GNB_chi2_200 = GNB_classifer.fit(X_train_chi2_200, y_train_chi2_200)\n",
    "y_predicted_chi2_200 = fitted_GNB_chi2_200.predict(X_test_chi2_200)\n",
    "accuracy_prediction_chi2_200 = accuracy_score(y_test_chi2_200, y_predicted_chi2_200)\n",
    "print(f\"accuracy_chi2_200: {accuracy_prediction_chi2_200}\")"
   ]
  },
  {
   "cell_type": "code",
   "execution_count": 221,
   "metadata": {
    "ExecuteTime": {
     "end_time": "2024-04-26T12:07:16.794928300Z",
     "start_time": "2024-04-26T12:07:16.675855600Z"
    }
   },
   "outputs": [
    {
     "name": "stdout",
     "output_type": "stream",
     "text": [
      "X_train_chi2_300: (3539, 30)\n",
      "X_test_chi2_300: (885, 30)\n",
      "y_train_chi2_300: (3539,)\n",
      "y_test_chi2_300: (885,)\n",
      "accuracy_chi2_300: 0.7096045197740113\n"
     ]
    }
   ],
   "source": [
    "feature_selection_SelectKBest_300 = SelectKBest(chi2, k=30)\n",
    "X_feature_selection_chi2_300 = feature_selection_SelectKBest_300.fit_transform(X_max_min, y)\n",
    "X_feature_selection_chi2_300.shape\n",
    "X_train_chi2_300, X_test_chi2_300,y_train_chi2_300, y_test_chi2_300 = train_test_split(X_feature_selection_chi2_300,y, test_size=0.2)\n",
    "print(f\"X_train_chi2_300: {X_train_chi2_300.shape}\")\n",
    "print(f\"X_test_chi2_300: {X_test_chi2_300.shape}\")\n",
    "print(f\"y_train_chi2_300: {y_train_chi2_300.shape}\")\n",
    "print(f\"y_test_chi2_300: {y_test_chi2_300.shape}\")\n",
    "fitted_GNB_chi2_300 = GNB_classifer.fit(X_train_chi2_300, y_train_chi2_300)\n",
    "y_predicted_chi2_300 = fitted_GNB_chi2_300.predict(X_test_chi2_300)\n",
    "accuracy_prediction_chi2_300 = accuracy_score(y_test_chi2_300, y_predicted_chi2_300)\n",
    "print(f\"accuracy_chi2_300: {accuracy_prediction_chi2_300}\")"
   ]
  },
  {
   "cell_type": "code",
   "execution_count": 222,
   "metadata": {
    "ExecuteTime": {
     "end_time": "2024-04-26T12:07:16.877867800Z",
     "start_time": "2024-04-26T12:07:16.792425600Z"
    }
   },
   "outputs": [
    {
     "name": "stdout",
     "output_type": "stream",
     "text": [
      "X_train_chi2_400: (3539, 36)\n",
      "X_test_chi2_400: (885, 36)\n",
      "y_train_chi2_400: (3539,)\n",
      "y_test_chi2_400: (885,)\n",
      "accuracy_chi2_400: 0.6870056497175141\n"
     ]
    }
   ],
   "source": [
    "feature_selection_SelectKBest_400 = SelectKBest(chi2, k=36)\n",
    "X_feature_selection_chi2_400 = feature_selection_SelectKBest_400.fit_transform(X_max_min, y)\n",
    "X_feature_selection_chi2_400.shape\n",
    "X_train_chi2_400, X_test_chi2_400,y_train_chi2_400, y_test_chi2_400 = train_test_split(X_feature_selection_chi2_400,y, test_size=0.2)\n",
    "print(f\"X_train_chi2_400: {X_train_chi2_400.shape}\")\n",
    "print(f\"X_test_chi2_400: {X_test_chi2_400.shape}\")\n",
    "print(f\"y_train_chi2_400: {y_train_chi2_400.shape}\")\n",
    "print(f\"y_test_chi2_400: {y_test_chi2_400.shape}\")\n",
    "fitted_GNB_chi2_400 = GNB_classifer.fit(X_train_chi2_400, y_train_chi2_400)\n",
    "y_predicted_chi2_400 = fitted_GNB_chi2_400.predict(X_test_chi2_400)\n",
    "accuracy_prediction_chi2_400 = accuracy_score(y_test_chi2_400, y_predicted_chi2_400)\n",
    "print(f\"accuracy_chi2_400: {accuracy_prediction_chi2_400}\")"
   ]
  },
  {
   "cell_type": "code",
   "execution_count": 223,
   "metadata": {
    "ExecuteTime": {
     "end_time": "2024-04-26T12:07:16.949671100Z",
     "start_time": "2024-04-26T12:07:16.849490300Z"
    }
   },
   "outputs": [
    {
     "data": {
      "text/plain": "<Figure size 1000x500 with 1 Axes>",
      "image/png": "[encoded data removed]"
     },
     "metadata": {},
     "output_type": "display_data"
    }
   ],
   "source": [
    "import matplotlib.pyplot as plt\n",
    "\n",
    "execution = (\"original data\", 'accuracy_100','accuracy_200',\n",
    "             'accuracy_300','accuracy_400')\n",
    "accuracy = [float(round(first_prediction*100,2)), float(round(accuracy_prediction_chi2_100*100,2)), float(round(accuracy_prediction_chi2_200*100,2)), \n",
    "            float(round(accuracy_prediction_chi2_300*100,2)), float(round(accuracy_prediction_chi2_400*100,2))]\n",
    "fig = plt.figure(figsize = (10, 5))\n",
    "plt.bar(execution,accuracy)\n",
    "\n",
    "for index, value in enumerate(accuracy):\n",
    "    plt.text(index, value,str(value))\n",
    "    \n",
    "plt.show()"
   ]
  },
  {
   "cell_type": "markdown",
   "metadata": {},
   "source": [
    "mutual_info_classif"
   ]
  },
  {
   "cell_type": "code",
   "execution_count": 224,
   "metadata": {
    "ExecuteTime": {
     "end_time": "2024-04-26T12:07:17.459853400Z",
     "start_time": "2024-04-26T12:07:16.941154100Z"
    }
   },
   "outputs": [
    {
     "name": "stdout",
     "output_type": "stream",
     "text": [
      "X_train_mutual_info_classif_100: (3539, 10)\n",
      "X_test_mutual_info_classif_100: (885, 10)\n",
      "y_train_mutual_info_classif_100: (3539,)\n",
      "y_test_mutual_info_classif_100: (885,)\n",
      "accuracy_mutual_info_classif_100: 0.7163841807909604\n"
     ]
    }
   ],
   "source": [
    "from sklearn.feature_selection import mutual_info_classif\n",
    "\n",
    "feature_selection_SelectKBest_100 = SelectKBest(mutual_info_classif, k=10)\n",
    "X_feature_selection_mutual_info_classif_100 = feature_selection_SelectKBest_100.fit_transform(X_max_min, y)\n",
    "X_feature_selection_mutual_info_classif_100.shape\n",
    "X_train_mutual_info_classif_100, X_test_mutual_info_classif_100,y_train_mutual_info_classif_100, y_test_mutual_info_classif_100 = train_test_split(X_feature_selection_mutual_info_classif_100,y, test_size=0.2)\n",
    "print(f\"X_train_mutual_info_classif_100: {X_train_mutual_info_classif_100.shape}\")\n",
    "print(f\"X_test_mutual_info_classif_100: {X_test_mutual_info_classif_100.shape}\")\n",
    "print(f\"y_train_mutual_info_classif_100: {y_train_mutual_info_classif_100.shape}\")\n",
    "print(f\"y_test_mutual_info_classif_100: {y_test_mutual_info_classif_100.shape}\")\n",
    "fitted_GNB_mutual_info_classif_100 = GNB_classifer.fit(X_train_mutual_info_classif_100, y_train_mutual_info_classif_100)\n",
    "y_predicted_mutual_info_classif_100 = fitted_GNB_mutual_info_classif_100.predict(X_test_mutual_info_classif_100)\n",
    "accuracy_prediction_mutual_info_classif_100 = accuracy_score(y_test_mutual_info_classif_100, y_predicted_mutual_info_classif_100)\n",
    "print(f\"accuracy_mutual_info_classif_100: {accuracy_prediction_mutual_info_classif_100}\")"
   ]
  },
  {
   "cell_type": "code",
   "execution_count": 225,
   "metadata": {
    "ExecuteTime": {
     "end_time": "2024-04-26T12:07:18.342089300Z",
     "start_time": "2024-04-26T12:07:17.457853Z"
    }
   },
   "outputs": [
    {
     "name": "stdout",
     "output_type": "stream",
     "text": [
      "X_train_mutual_info_classif_200: (3539, 20)\n",
      "X_test_mutual_info_classif_200: (885, 20)\n",
      "y_train_mutual_info_classif_200: (3539,)\n",
      "y_test_mutual_info_classif_200: (885,)\n",
      "accuracy_mutual_info_classif_200: 0.711864406779661\n"
     ]
    }
   ],
   "source": [
    "feature_selection_SelectKBest_200 = SelectKBest(mutual_info_classif, k=20)\n",
    "X_feature_selection_mutual_info_classif_200 = feature_selection_SelectKBest_200.fit_transform(X_max_min, y)\n",
    "X_feature_selection_mutual_info_classif_200.shape\n",
    "X_train_mutual_info_classif_200, X_test_mutual_info_classif_200,y_train_mutual_info_classif_200, y_test_mutual_info_classif_200 = train_test_split(X_feature_selection_mutual_info_classif_200,y, test_size=0.2)\n",
    "print(f\"X_train_mutual_info_classif_200: {X_train_mutual_info_classif_200.shape}\")\n",
    "print(f\"X_test_mutual_info_classif_200: {X_test_mutual_info_classif_200.shape}\")\n",
    "print(f\"y_train_mutual_info_classif_200: {y_train_mutual_info_classif_200.shape}\")\n",
    "print(f\"y_test_mutual_info_classif_200: {y_test_mutual_info_classif_200.shape}\")\n",
    "fitted_GNB_mutual_info_classif_200 = GNB_classifer.fit(X_train_mutual_info_classif_200, y_train_mutual_info_classif_200)\n",
    "y_predicted_mutual_info_classif_200 = fitted_GNB_mutual_info_classif_200.predict(X_test_mutual_info_classif_200)\n",
    "accuracy_prediction_mutual_info_classif_200 = accuracy_score(y_test_mutual_info_classif_200, y_predicted_mutual_info_classif_200)\n",
    "print(f\"accuracy_mutual_info_classif_200: {accuracy_prediction_mutual_info_classif_200}\")"
   ]
  },
  {
   "cell_type": "code",
   "execution_count": 226,
   "metadata": {
    "ExecuteTime": {
     "end_time": "2024-04-26T12:07:18.919853200Z",
     "start_time": "2024-04-26T12:07:18.313945700Z"
    }
   },
   "outputs": [
    {
     "name": "stdout",
     "output_type": "stream",
     "text": [
      "X_train_mutual_info_classif_300: (3539, 30)\n",
      "X_test_mutual_info_classif_300: (885, 30)\n",
      "y_train_mutual_info_classif_300: (3539,)\n",
      "y_test_mutual_info_classif_300: (885,)\n",
      "accuracy_mutual_info_classif_300: 0.7016949152542373\n"
     ]
    }
   ],
   "source": [
    "feature_selection_SelectKBest_300 = SelectKBest(mutual_info_classif, k=30)\n",
    "X_feature_selection_mutual_info_classif_300 = feature_selection_SelectKBest_300.fit_transform(X_max_min, y)\n",
    "X_feature_selection_mutual_info_classif_300.shape\n",
    "X_train_mutual_info_classif_300, X_test_mutual_info_classif_300,y_train_mutual_info_classif_300, y_test_mutual_info_classif_300 = train_test_split(X_feature_selection_mutual_info_classif_300,y, test_size=0.2)\n",
    "print(f\"X_train_mutual_info_classif_300: {X_train_mutual_info_classif_300.shape}\")\n",
    "print(f\"X_test_mutual_info_classif_300: {X_test_mutual_info_classif_300.shape}\")\n",
    "print(f\"y_train_mutual_info_classif_300: {y_train_mutual_info_classif_300.shape}\")\n",
    "print(f\"y_test_mutual_info_classif_300: {y_test_mutual_info_classif_300.shape}\")\n",
    "fitted_GNB_mutual_info_classif_300 = GNB_classifer.fit(X_train_mutual_info_classif_300, y_train_mutual_info_classif_300)\n",
    "y_predicted_mutual_info_classif_300 = fitted_GNB_mutual_info_classif_300.predict(X_test_mutual_info_classif_300)\n",
    "accuracy_prediction_mutual_info_classif_300 = accuracy_score(y_test_mutual_info_classif_300, y_predicted_mutual_info_classif_300)\n",
    "print(f\"accuracy_mutual_info_classif_300: {accuracy_prediction_mutual_info_classif_300}\")"
   ]
  },
  {
   "cell_type": "code",
   "execution_count": 227,
   "metadata": {
    "ExecuteTime": {
     "end_time": "2024-04-26T12:07:19.499263700Z",
     "start_time": "2024-04-26T12:07:18.920852900Z"
    }
   },
   "outputs": [
    {
     "name": "stdout",
     "output_type": "stream",
     "text": [
      "X_train_mutual_info_classif_400: (3539, 36)\n",
      "X_test_mutual_info_classif_400: (885, 36)\n",
      "y_train_mutual_info_classif_400: (3539,)\n",
      "y_test_mutual_info_classif_400: (885,)\n",
      "accuracy_mutual_info_classif_400: 0.6542372881355932\n"
     ]
    }
   ],
   "source": [
    "feature_selection_SelectKBest_400 = SelectKBest(mutual_info_classif, k=36)\n",
    "X_feature_selection_mutual_info_classif_400 = feature_selection_SelectKBest_400.fit_transform(X_max_min, y)\n",
    "X_feature_selection_mutual_info_classif_400.shape\n",
    "X_train_mutual_info_classif_400, X_test_mutual_info_classif_400,y_train_mutual_info_classif_400, y_test_mutual_info_classif_400 = train_test_split(X_feature_selection_mutual_info_classif_400,y, test_size=0.2)\n",
    "print(f\"X_train_mutual_info_classif_400: {X_train_mutual_info_classif_400.shape}\")\n",
    "print(f\"X_test_mutual_info_classif_400: {X_test_mutual_info_classif_400.shape}\")\n",
    "print(f\"y_train_mutual_info_classif_400: {y_train_mutual_info_classif_400.shape}\")\n",
    "print(f\"y_test_mutual_info_classif_400: {y_test_mutual_info_classif_400.shape}\")\n",
    "fitted_GNB_mutual_info_classif_400 = GNB_classifer.fit(X_train_mutual_info_classif_400, y_train_mutual_info_classif_400)\n",
    "y_predicted_mutual_info_classif_400 = fitted_GNB_mutual_info_classif_400.predict(X_test_mutual_info_classif_400)\n",
    "accuracy_prediction_mutual_info_classif_400 = accuracy_score(y_test_mutual_info_classif_400, y_predicted_mutual_info_classif_400)\n",
    "print(f\"accuracy_mutual_info_classif_400: {accuracy_prediction_mutual_info_classif_400}\")"
   ]
  },
  {
   "cell_type": "code",
   "execution_count": 228,
   "metadata": {
    "ExecuteTime": {
     "end_time": "2024-04-26T12:07:19.574832900Z",
     "start_time": "2024-04-26T12:07:19.498262500Z"
    }
   },
   "outputs": [
    {
     "data": {
      "text/plain": "<Figure size 1000x500 with 1 Axes>",
      "image/png": "[encoded data removed]"
     },
     "metadata": {},
     "output_type": "display_data"
    }
   ],
   "source": [
    "execution = (\"original data\", 'accuracy_100','accuracy_200',\n",
    "             'accuracy_300','accuracy_400')\n",
    "accuracy = [float(round(first_prediction*100,2)), float(round(accuracy_prediction_mutual_info_classif_100*100,2)), float(round(accuracy_prediction_mutual_info_classif_200*100,2)), \n",
    "            float(round(accuracy_prediction_mutual_info_classif_300*100,2)), float(round(accuracy_prediction_mutual_info_classif_400*100,2))]\n",
    "fig = plt.figure(figsize = (10, 5))\n",
    "plt.bar(execution,accuracy)\n",
    "\n",
    "for index, value in enumerate(accuracy):\n",
    "    plt.text(index, value,str(value))\n",
    "    \n",
    "plt.show()"
   ]
  },
  {
   "cell_type": "markdown",
   "metadata": {
    "execution": {
     "iopub.execute_input": "2023-04-16T20:28:46.040269Z",
     "iopub.status.busy": "2023-04-16T20:28:46.039036Z",
     "iopub.status.idle": "2023-04-16T20:28:46.046767Z",
     "shell.execute_reply": "2023-04-16T20:28:46.045246Z",
     "shell.execute_reply.started": "2023-04-16T20:28:46.040219Z"
    }
   },
   "source": [
    "Summary of Kbest"
   ]
  },
  {
   "cell_type": "code",
   "execution_count": 229,
   "metadata": {
    "ExecuteTime": {
     "end_time": "2024-04-26T12:07:19.699254700Z",
     "start_time": "2024-04-26T12:07:19.576865900Z"
    }
   },
   "outputs": [
    {
     "data": {
      "text/plain": "<Figure size 2000x500 with 1 Axes>",
      "image/png": "[encoded data removed]"
     },
     "metadata": {},
     "output_type": "display_data"
    }
   ],
   "source": [
    "execution = (\"original data\", 'f_classif_100','f_classif_200',\n",
    "             'f_classif_300','f_classif_400','chi2_100','chi2_200',\n",
    "             'chi2_300','chi2_400','mutual_100','mutual_200',\n",
    "             'mutual_300','mutual_400')\n",
    "accuracy = [float(round(first_prediction*100,2)), float(round(accuracy_prediction_f_classif_100*100,2)), float(round(accuracy_prediction_f_classif_200*100,2)), \n",
    "            float(round(accuracy_prediction_f_classif_300*100,2)), float(round(accuracy_prediction_f_classif_400*100,2)), float(round(accuracy_prediction_chi2_100*100,2)), float(round(accuracy_prediction_chi2_200*100,2)), \n",
    "            float(round(accuracy_prediction_chi2_300*100,2)), float(round(accuracy_prediction_chi2_400*100,2)), float(round(accuracy_prediction_mutual_info_classif_100*100,2)), float(round(accuracy_prediction_mutual_info_classif_200*100,2)), \n",
    "            float(round(accuracy_prediction_mutual_info_classif_300*100,2)), float(round(accuracy_prediction_mutual_info_classif_400*100,2))]\n",
    "fig = plt.figure(figsize = (20, 5))\n",
    "plt.bar(execution,accuracy)\n",
    "\n",
    "for index, value in enumerate(accuracy):\n",
    "    plt.text(index, value,str(value))\n",
    "    \n",
    "plt.show()"
   ]
  },
  {
   "cell_type": "code",
   "execution_count": 230,
   "metadata": {
    "ExecuteTime": {
     "end_time": "2024-04-26T12:07:19.715976700Z",
     "start_time": "2024-04-26T12:07:19.698250500Z"
    }
   },
   "outputs": [],
   "source": [
    "from sklearn.feature_selection import SelectPercentile"
   ]
  },
  {
   "cell_type": "code",
   "execution_count": 231,
   "metadata": {
    "ExecuteTime": {
     "end_time": "2024-04-26T12:07:19.802911900Z",
     "start_time": "2024-04-26T12:07:19.716977700Z"
    }
   },
   "outputs": [
    {
     "name": "stdout",
     "output_type": "stream",
     "text": [
      "X_train_f_classif_25: (3539, 9)\n",
      "X_test_f_classif_25: (885, 9)\n",
      "y_train_f_classif_25: (3539,)\n",
      "y_test_f_classif_25: (885,)\n",
      "accuracy_f_classif_25: 0.7197740112994351\n"
     ]
    }
   ],
   "source": [
    "feature_selection_SelectPercentile_25 = SelectPercentile(f_classif, percentile=25)\n",
    "X_feature_selection_f_classif_25 = feature_selection_SelectPercentile_25.fit_transform(X, y)\n",
    "X_feature_selection_f_classif_25.shape\n",
    "X_train_f_classif_25, X_test_f_classif_25,y_train_f_classif_25, y_test_f_classif_25 = train_test_split(X_feature_selection_f_classif_25,y, test_size=0.2)\n",
    "print(f\"X_train_f_classif_25: {X_train_f_classif_25.shape}\")\n",
    "print(f\"X_test_f_classif_25: {X_test_f_classif_25.shape}\")\n",
    "print(f\"y_train_f_classif_25: {y_train_f_classif_25.shape}\")\n",
    "print(f\"y_test_f_classif_25: {y_test_f_classif_25.shape}\")\n",
    "fitted_GNB_f_classif_25 = GNB_classifer.fit(X_train_f_classif_25, y_train_f_classif_25)\n",
    "y_predicted_f_classif_25 = fitted_GNB_f_classif_25.predict(X_test_f_classif_25)\n",
    "accuracy_prediction_f_classif_25 = accuracy_score(y_test_f_classif_25, y_predicted_f_classif_25)\n",
    "print(f\"accuracy_f_classif_25: {accuracy_prediction_f_classif_25}\")"
   ]
  },
  {
   "cell_type": "code",
   "execution_count": 232,
   "metadata": {
    "ExecuteTime": {
     "end_time": "2024-04-26T12:07:19.804912600Z",
     "start_time": "2024-04-26T12:07:19.729456800Z"
    }
   },
   "outputs": [
    {
     "name": "stdout",
     "output_type": "stream",
     "text": [
      "X_train_f_classif_50: (3539, 18)\n",
      "X_test_f_classif_50: (885, 18)\n",
      "y_train_f_classif_50: (3539,)\n",
      "y_test_f_classif_50: (885,)\n",
      "accuracy_f_classif_50: 0.696045197740113\n"
     ]
    }
   ],
   "source": [
    "feature_selection_SelectPercentile_50 = SelectPercentile(f_classif, percentile=50)\n",
    "X_feature_selection_f_classif_50 = feature_selection_SelectPercentile_50.fit_transform(X, y)\n",
    "X_feature_selection_f_classif_50.shape\n",
    "X_train_f_classif_50, X_test_f_classif_50,y_train_f_classif_50, y_test_f_classif_50 = train_test_split(X_feature_selection_f_classif_50,y, test_size=0.2)\n",
    "print(f\"X_train_f_classif_50: {X_train_f_classif_50.shape}\")\n",
    "print(f\"X_test_f_classif_50: {X_test_f_classif_50.shape}\")\n",
    "print(f\"y_train_f_classif_50: {y_train_f_classif_50.shape}\")\n",
    "print(f\"y_test_f_classif_50: {y_test_f_classif_50.shape}\")\n",
    "fitted_GNB_f_classif_50 = GNB_classifer.fit(X_train_f_classif_50, y_train_f_classif_50)\n",
    "y_predicted_f_classif_50 = fitted_GNB_f_classif_50.predict(X_test_f_classif_50)\n",
    "accuracy_prediction_f_classif_50 = accuracy_score(y_test_f_classif_50, y_predicted_f_classif_50)\n",
    "print(f\"accuracy_f_classif_50: {accuracy_prediction_f_classif_50}\")"
   ]
  },
  {
   "cell_type": "code",
   "execution_count": 233,
   "metadata": {
    "ExecuteTime": {
     "end_time": "2024-04-26T12:07:19.837956300Z",
     "start_time": "2024-04-26T12:07:19.746298800Z"
    }
   },
   "outputs": [
    {
     "name": "stdout",
     "output_type": "stream",
     "text": [
      "X_train_f_classif_75: (3539, 27)\n",
      "X_test_f_classif_75: (885, 27)\n",
      "y_train_f_classif_75: (3539,)\n",
      "y_test_f_classif_75: (885,)\n",
      "accuracy_f_classif_75: 0.6847457627118644\n"
     ]
    }
   ],
   "source": [
    "feature_selection_SelectPercentile_75 = SelectPercentile(f_classif, percentile=75)\n",
    "X_feature_selection_f_classif_75 = feature_selection_SelectPercentile_75.fit_transform(X, y)\n",
    "X_feature_selection_f_classif_75.shape\n",
    "X_train_f_classif_75, X_test_f_classif_75,y_train_f_classif_75, y_test_f_classif_75 = train_test_split(X_feature_selection_f_classif_75,y, test_size=0.2)\n",
    "print(f\"X_train_f_classif_75: {X_train_f_classif_75.shape}\")\n",
    "print(f\"X_test_f_classif_75: {X_test_f_classif_75.shape}\")\n",
    "print(f\"y_train_f_classif_75: {y_train_f_classif_75.shape}\")\n",
    "print(f\"y_test_f_classif_75: {y_test_f_classif_75.shape}\")\n",
    "fitted_GNB_f_classif_75 = GNB_classifer.fit(X_train_f_classif_75, y_train_f_classif_75)\n",
    "y_predicted_f_classif_75 = fitted_GNB_f_classif_75.predict(X_test_f_classif_75)\n",
    "accuracy_prediction_f_classif_75 = accuracy_score(y_test_f_classif_75, y_predicted_f_classif_75)\n",
    "print(f\"accuracy_f_classif_75: {accuracy_prediction_f_classif_75}\")"
   ]
  },
  {
   "cell_type": "code",
   "execution_count": 234,
   "metadata": {
    "ExecuteTime": {
     "end_time": "2024-04-26T12:07:19.870543300Z",
     "start_time": "2024-04-26T12:07:19.775830200Z"
    }
   },
   "outputs": [
    {
     "data": {
      "text/plain": "<Figure size 1000x500 with 1 Axes>",
      "image/png": "[encoded data removed]"
     },
     "metadata": {},
     "output_type": "display_data"
    }
   ],
   "source": [
    "execution = (\"original data\", 'accuracy_25P','accuracy_50P',\n",
    "             'accuracy_75P')\n",
    "accuracy = [float(round(first_prediction*100,2)), float(round(accuracy_prediction_f_classif_25*100,2)), float(round(accuracy_prediction_f_classif_50*100,2)), \n",
    "            float(round(accuracy_prediction_f_classif_75*100,2))]\n",
    "fig = plt.figure(figsize = (10, 5))\n",
    "plt.bar(execution,accuracy)\n",
    "\n",
    "for index, value in enumerate(accuracy):\n",
    "    plt.text(index, value,str(value))\n",
    "    \n",
    "plt.show()"
   ]
  },
  {
   "cell_type": "markdown",
   "metadata": {},
   "source": [
    "# PCA"
   ]
  },
  {
   "cell_type": "code",
   "execution_count": 235,
   "metadata": {
    "ExecuteTime": {
     "end_time": "2024-04-26T12:07:19.932170500Z",
     "start_time": "2024-04-26T12:07:19.853968500Z"
    }
   },
   "outputs": [],
   "source": [
    "from sklearn import decomposition"
   ]
  },
  {
   "cell_type": "code",
   "execution_count": 236,
   "metadata": {
    "ExecuteTime": {
     "end_time": "2024-04-26T12:07:19.946707400Z",
     "start_time": "2024-04-26T12:07:19.870543300Z"
    }
   },
   "outputs": [],
   "source": [
    "pca_100 = decomposition.PCA(n_components=10)\n",
    "pca_100.fit(X)\n",
    "X_pca_100 = pca_100.transform(X)"
   ]
  },
  {
   "cell_type": "code",
   "execution_count": 237,
   "metadata": {
    "ExecuteTime": {
     "end_time": "2024-04-26T12:07:19.949709800Z",
     "start_time": "2024-04-26T12:07:19.917659900Z"
    }
   },
   "outputs": [
    {
     "data": {
      "text/plain": "(4424, 10)"
     },
     "execution_count": 237,
     "metadata": {},
     "output_type": "execute_result"
    }
   ],
   "source": [
    "X_pca_100.shape"
   ]
  },
  {
   "cell_type": "code",
   "execution_count": 238,
   "metadata": {
    "ExecuteTime": {
     "end_time": "2024-04-26T12:07:20.003243800Z",
     "start_time": "2024-04-26T12:07:19.932170500Z"
    }
   },
   "outputs": [],
   "source": [
    "X_train_pca_100, X_test_pca_100,y_train_pca_100, y_test_pca_100 = train_test_split(X_pca_100,y, test_size=0.2)"
   ]
  },
  {
   "cell_type": "code",
   "execution_count": 239,
   "metadata": {
    "ExecuteTime": {
     "end_time": "2024-04-26T12:07:20.015828Z",
     "start_time": "2024-04-26T12:07:19.947706800Z"
    }
   },
   "outputs": [
    {
     "name": "stdout",
     "output_type": "stream",
     "text": [
      "X_train_pca_100: (3539, 10)\n",
      "X_test_pca_100: (885, 10)\n",
      "y_train_pca_100: (3539,)\n",
      "y_test_pca_100: (885,)\n"
     ]
    }
   ],
   "source": [
    "print(f\"X_train_pca_100: {X_train_pca_100.shape}\")\n",
    "print(f\"X_test_pca_100: {X_test_pca_100.shape}\")\n",
    "print(f\"y_train_pca_100: {y_train_pca_100.shape}\")\n",
    "print(f\"y_test_pca_100: {y_test_pca_100.shape}\")"
   ]
  },
  {
   "cell_type": "code",
   "execution_count": 240,
   "metadata": {
    "ExecuteTime": {
     "end_time": "2024-04-26T12:07:20.017827700Z",
     "start_time": "2024-04-26T12:07:19.962901800Z"
    }
   },
   "outputs": [],
   "source": [
    "fitted_GNB_pca_100 = GNB_classifer.fit(X_train_pca_100, y_train_pca_100)"
   ]
  },
  {
   "cell_type": "code",
   "execution_count": 241,
   "metadata": {
    "ExecuteTime": {
     "end_time": "2024-04-26T12:07:20.026065100Z",
     "start_time": "2024-04-26T12:07:19.979225800Z"
    }
   },
   "outputs": [],
   "source": [
    "y_predicted_pca_100 = fitted_GNB_pca_100.predict(X_test_pca_100)"
   ]
  },
  {
   "cell_type": "code",
   "execution_count": 242,
   "metadata": {
    "ExecuteTime": {
     "end_time": "2024-04-26T12:07:20.063241900Z",
     "start_time": "2024-04-26T12:07:19.995239500Z"
    }
   },
   "outputs": [
    {
     "name": "stdout",
     "output_type": "stream",
     "text": [
      "accuracy_pca_100: 0.6384180790960452\n"
     ]
    }
   ],
   "source": [
    "accuracy_prediction_pca_100 = accuracy_score(y_test_pca_100, y_predicted_pca_100)\n",
    "print(f\"accuracy_pca_100: {accuracy_prediction_pca_100}\")"
   ]
  },
  {
   "cell_type": "code",
   "execution_count": 243,
   "metadata": {
    "ExecuteTime": {
     "end_time": "2024-04-26T12:07:20.088957700Z",
     "start_time": "2024-04-26T12:07:20.010753600Z"
    }
   },
   "outputs": [
    {
     "name": "stdout",
     "output_type": "stream",
     "text": [
      "X_train_pca_200: (3539, 20)\n",
      "X_test_pca_200: (885, 20)\n",
      "y_train_pca_200: (3539,)\n",
      "y_test_pca_200: (885,)\n",
      "accuracy_pca_200: 0.6418079096045197\n"
     ]
    }
   ],
   "source": [
    "pca_200 = decomposition.PCA(n_components=20)\n",
    "pca_200.fit(X)\n",
    "X_pca_200 = pca_200.transform(X)\n",
    "X_train_pca_200, X_test_pca_200,y_train_pca_200, y_test_pca_200 = train_test_split(X_pca_200,y, test_size=0.2)\n",
    "print(f\"X_train_pca_200: {X_train_pca_200.shape}\")\n",
    "print(f\"X_test_pca_200: {X_test_pca_200.shape}\")\n",
    "print(f\"y_train_pca_200: {y_train_pca_200.shape}\")\n",
    "print(f\"y_test_pca_200: {y_test_pca_200.shape}\")\n",
    "fitted_GNB_pca_200 = GNB_classifer.fit(X_train_pca_200, y_train_pca_200)\n",
    "y_predicted_pca_200 = fitted_GNB_pca_200.predict(X_test_pca_200)\t\n",
    "accuracy_prediction_pca_200 = accuracy_score(y_test_pca_200, y_predicted_pca_200)\n",
    "print(f\"accuracy_pca_200: {accuracy_prediction_pca_200}\")"
   ]
  },
  {
   "cell_type": "code",
   "execution_count": 244,
   "metadata": {
    "ExecuteTime": {
     "end_time": "2024-04-26T12:07:20.135730300Z",
     "start_time": "2024-04-26T12:07:20.057242700Z"
    }
   },
   "outputs": [
    {
     "name": "stdout",
     "output_type": "stream",
     "text": [
      "X_train_pca_300: (3539, 30)\n",
      "X_test_pca_300: (885, 30)\n",
      "y_train_pca_300: (3539,)\n",
      "y_test_pca_300: (885,)\n",
      "accuracy_pca_300: 0.6598870056497175\n"
     ]
    }
   ],
   "source": [
    "pca_300 = decomposition.PCA(n_components=30)\n",
    "pca_300.fit(X)\n",
    "X_pca_300 = pca_300.transform(X)\n",
    "X_train_pca_300, X_test_pca_300,y_train_pca_300, y_test_pca_300 = train_test_split(X_pca_300,y, test_size=0.2)\n",
    "print(f\"X_train_pca_300: {X_train_pca_300.shape}\")\n",
    "print(f\"X_test_pca_300: {X_test_pca_300.shape}\")\n",
    "print(f\"y_train_pca_300: {y_train_pca_300.shape}\")\n",
    "print(f\"y_test_pca_300: {y_test_pca_300.shape}\")\n",
    "fitted_GNB_pca_300 = GNB_classifer.fit(X_train_pca_300, y_train_pca_300)\n",
    "y_predicted_pca_300 = fitted_GNB_pca_300.predict(X_test_pca_300)\t\n",
    "accuracy_prediction_pca_300 = accuracy_score(y_test_pca_300, y_predicted_pca_300)\n",
    "print(f\"accuracy_pca_300: {accuracy_prediction_pca_300}\")"
   ]
  },
  {
   "cell_type": "code",
   "execution_count": 245,
   "metadata": {
    "ExecuteTime": {
     "end_time": "2024-04-26T12:07:20.197986400Z",
     "start_time": "2024-04-26T12:07:20.134724200Z"
    }
   },
   "outputs": [
    {
     "name": "stdout",
     "output_type": "stream",
     "text": [
      "X_train_pca_400: (3539, 37)\n",
      "X_test_pca_400: (885, 37)\n",
      "y_train_pca_400: (3539,)\n",
      "y_test_pca_400: (885,)\n",
      "accuracy_pca_400: 0.6824858757062147\n"
     ]
    }
   ],
   "source": [
    "pca_400 = decomposition.PCA(n_components=37)\n",
    "pca_400.fit(X)\n",
    "X_pca_400 = pca_400.transform(X)\n",
    "X_train_pca_400, X_test_pca_400,y_train_pca_400, y_test_pca_400 = train_test_split(X_pca_400,y, test_size=0.2)\n",
    "print(f\"X_train_pca_400: {X_train_pca_400.shape}\")\n",
    "print(f\"X_test_pca_400: {X_test_pca_400.shape}\")\n",
    "print(f\"y_train_pca_400: {y_train_pca_400.shape}\")\n",
    "print(f\"y_test_pca_400: {y_test_pca_400.shape}\")\n",
    "fitted_GNB_pca_400 = GNB_classifer.fit(X_train_pca_400, y_train_pca_400)\n",
    "y_predicted_pca_400 = fitted_GNB_pca_400.predict(X_test_pca_400)\t\n",
    "accuracy_prediction_pca_400 = accuracy_score(y_test_pca_400, y_predicted_pca_400)\n",
    "print(f\"accuracy_pca_400: {accuracy_prediction_pca_400}\")"
   ]
  },
  {
   "cell_type": "code",
   "execution_count": 246,
   "metadata": {
    "ExecuteTime": {
     "end_time": "2024-04-26T12:07:20.275096400Z",
     "start_time": "2024-04-26T12:07:20.197986400Z"
    }
   },
   "outputs": [
    {
     "data": {
      "text/plain": "<Figure size 1000x500 with 1 Axes>",
      "image/png": "[encoded data removed]"
     },
     "metadata": {},
     "output_type": "display_data"
    }
   ],
   "source": [
    "execution = (\"original data\", 'accuracy_100','accuracy_200',\n",
    "             'accuracy_300','accuracy_400')\n",
    "accuracy = [float(round(first_prediction*100,2)), float(round(accuracy_prediction_pca_100*100,2)), float(round(accuracy_prediction_pca_200*100,2)), \n",
    "            float(round(accuracy_prediction_pca_300*100,2)), float(round(accuracy_prediction_pca_400*100,2))]\n",
    "fig = plt.figure(figsize = (10, 5))\n",
    "plt.bar(execution,accuracy)\n",
    "\n",
    "for index, value in enumerate(accuracy):\n",
    "    plt.text(index, value,str(value))\n",
    "    \n",
    "plt.show()"
   ]
  },
  {
   "cell_type": "markdown",
   "metadata": {},
   "source": [
    "# Linear Discriminant Analysis."
   ]
  },
  {
   "cell_type": "code",
   "execution_count": 247,
   "metadata": {
    "ExecuteTime": {
     "end_time": "2024-04-26T12:07:20.346729800Z",
     "start_time": "2024-04-26T12:07:20.275096400Z"
    }
   },
   "outputs": [],
   "source": [
    "from sklearn.discriminant_analysis import LinearDiscriminantAnalysis"
   ]
  },
  {
   "cell_type": "code",
   "execution_count": 248,
   "metadata": {
    "ExecuteTime": {
     "end_time": "2024-04-26T12:07:20.349664400Z",
     "start_time": "2024-04-26T12:07:20.291133500Z"
    }
   },
   "outputs": [],
   "source": [
    "clf_lda = LinearDiscriminantAnalysis()"
   ]
  },
  {
   "cell_type": "code",
   "execution_count": 249,
   "metadata": {
    "ExecuteTime": {
     "end_time": "2024-04-26T12:07:20.388194700Z",
     "start_time": "2024-04-26T12:07:20.306605Z"
    }
   },
   "outputs": [],
   "source": [
    "fitted_clf_lda = clf_lda.fit(X_train, y_train)"
   ]
  },
  {
   "cell_type": "code",
   "execution_count": 250,
   "metadata": {
    "ExecuteTime": {
     "end_time": "2024-04-26T12:07:20.401846300Z",
     "start_time": "2024-04-26T12:07:20.384094700Z"
    }
   },
   "outputs": [],
   "source": [
    "y_predicted_lda = fitted_clf_lda.predict(X_test)"
   ]
  },
  {
   "cell_type": "code",
   "execution_count": 251,
   "metadata": {
    "ExecuteTime": {
     "end_time": "2024-04-26T12:07:20.448045700Z",
     "start_time": "2024-04-26T12:07:20.400846800Z"
    }
   },
   "outputs": [
    {
     "name": "stdout",
     "output_type": "stream",
     "text": [
      "0.7627118644067796\n"
     ]
    }
   ],
   "source": [
    "lda_prediction = accuracy_score(y_test, y_predicted_lda)\n",
    "print(lda_prediction)"
   ]
  },
  {
   "cell_type": "code",
   "execution_count": 251,
   "metadata": {
    "ExecuteTime": {
     "end_time": "2024-04-26T12:07:20.451045700Z",
     "start_time": "2024-04-26T12:07:20.415138400Z"
    }
   },
   "outputs": [],
   "source": []
  }
 ],
 "metadata": {
  "kernelspec": {
   "display_name": "Python 3 (ipykernel)",
   "language": "python",
   "name": "python3"
  },
  "language_info": {
   "codemirror_mode": {
    "name": "ipython",
    "version": 3
   },
   "file_extension": ".py",
   "mimetype": "text/x-python",
   "name": "python",
   "nbconvert_exporter": "python",
   "pygments_lexer": "ipython3",
   "version": "3.9.15"
  }
 },
 "nbformat": 4,
 "nbformat_minor": 4
}
