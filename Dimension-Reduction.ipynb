{
 "cells": [
  {
   "cell_type": "markdown",
   "metadata": {},
   "source": [
    "# The purpose of this code is review types of dimension reductions in machine learning."
   ]
  },
  {
   "cell_type": "code",
   "metadata": {
    "_cell_guid": "b1076dfc-b9ad-4769-8c92-a6c4dae69d19",
    "_uuid": "8f2839f25d086af736a60e9eeb907d3b93b6e0e5"
   },
   "source": [
    "import os\n",
    "import pandas as pd\n",
    "import sklearn \n",
    "from sklearn.model_selection import train_test_split\n",
    "from sklearn.naive_bayes import GaussianNB\n",
    "from sklearn.metrics import accuracy_score\n",
    "import decimal"
   ],
   "outputs": [],
   "execution_count": null
  },
  {
   "cell_type": "code",
   "metadata": {},
   "source": [
    "df = pd.read_csv(\"all_data.csv\")"
   ],
   "outputs": [],
   "execution_count": null
  },
  {
   "cell_type": "code",
   "metadata": {},
   "source": [
    "print(f\"Dataframe shape : {df.shape}\")"
   ],
   "outputs": [],
   "execution_count": null
  },
  {
   "cell_type": "code",
   "metadata": {},
   "source": [
    "df.head()"
   ],
   "outputs": [],
   "execution_count": null
  },
  {
   "cell_type": "code",
   "metadata": {},
   "source": [
    "list_of_activity = df[\"Target\"].unique().tolist() \n",
    "print(list_of_activity)"
   ],
   "outputs": [],
   "execution_count": null
  },
  {
   "cell_type": "code",
   "metadata": {},
   "source": [
    "X = df.drop(columns = \"Target\")\n",
    "print(X.shape)"
   ],
   "outputs": [],
   "execution_count": null
  },
  {
   "cell_type": "code",
   "metadata": {},
   "source": [
    "y = df[\"Target\"]\n",
    "print(y.shape)"
   ],
   "outputs": [],
   "execution_count": null
  },
  {
   "cell_type": "code",
   "metadata": {},
   "source": [
    "X_train, X_test,y_train, y_test = train_test_split(X,y, test_size=0.2, shuffle=True)"
   ],
   "outputs": [],
   "execution_count": null
  },
  {
   "cell_type": "code",
   "metadata": {},
   "source": [
    "X_train.shape"
   ],
   "outputs": [],
   "execution_count": null
  },
  {
   "cell_type": "code",
   "metadata": {},
   "source": [
    "X_test.shape"
   ],
   "outputs": [],
   "execution_count": null
  },
  {
   "cell_type": "code",
   "metadata": {},
   "source": [
    "y_train.shape"
   ],
   "outputs": [],
   "execution_count": null
  },
  {
   "cell_type": "code",
   "metadata": {},
   "source": [
    "y_test.shape"
   ],
   "outputs": [],
   "execution_count": null
  },
  {
   "cell_type": "code",
   "metadata": {},
   "source": [
    "GNB_classifer = GaussianNB()"
   ],
   "outputs": [],
   "execution_count": null
  },
  {
   "cell_type": "code",
   "metadata": {},
   "source": [
    "fitted_GNB = GNB_classifer.fit(X_train, y_train)"
   ],
   "outputs": [],
   "execution_count": null
  },
  {
   "cell_type": "code",
   "metadata": {},
   "source": [
    "y_predicted = fitted_GNB.predict(X_test)"
   ],
   "outputs": [],
   "execution_count": null
  },
  {
   "cell_type": "code",
   "metadata": {},
   "source": [
    "y_predicted"
   ],
   "outputs": [],
   "execution_count": null
  },
  {
   "cell_type": "code",
   "metadata": {},
   "source": [
    "first_prediction = accuracy_score(y_test, y_predicted)\n",
    "print(first_prediction)"
   ],
   "outputs": [],
   "execution_count": null
  },
  {
   "cell_type": "markdown",
   "metadata": {},
   "source": [
    "# Feature selection"
   ]
  },
  {
   "cell_type": "markdown",
   "metadata": {},
   "source": [
    "**Select K best**"
   ]
  },
  {
   "cell_type": "markdown",
   "metadata": {},
   "source": [
    "f_classif"
   ]
  },
  {
   "cell_type": "code",
   "metadata": {},
   "source": [
    "from sklearn.feature_selection import SelectKBest\n",
    "from sklearn.feature_selection import f_classif"
   ],
   "outputs": [],
   "execution_count": null
  },
  {
   "cell_type": "code",
   "metadata": {},
   "source": [
    "feature_selection_SelectKBest_100 = SelectKBest(f_classif, k=10)"
   ],
   "outputs": [],
   "execution_count": null
  },
  {
   "cell_type": "code",
   "metadata": {},
   "source": [
    "X_feature_selection_f_classif_100 = feature_selection_SelectKBest_100.fit_transform(X, y)\n",
    "X_feature_selection_f_classif_100.shape"
   ],
   "outputs": [],
   "execution_count": null
  },
  {
   "cell_type": "code",
   "metadata": {},
   "source": [
    "X_train_f_classif_100, X_test_f_classif_100,y_train_f_classif_100, y_test_f_classif_100 = train_test_split(X_feature_selection_f_classif_100,y, test_size=0.2)"
   ],
   "outputs": [],
   "execution_count": null
  },
  {
   "cell_type": "code",
   "metadata": {},
   "source": [
    "print(f\"X_train_f_classif_100: {X_train_f_classif_100.shape}\")\n",
    "print(f\"X_test_f_classif_100: {X_test_f_classif_100.shape}\")\n",
    "print(f\"y_train_f_classif_100: {y_train_f_classif_100.shape}\")\n",
    "print(f\"y_test_f_classif_100: {y_test_f_classif_100.shape}\")"
   ],
   "outputs": [],
   "execution_count": null
  },
  {
   "cell_type": "code",
   "metadata": {},
   "source": [
    "fitted_GNB_f_classif_100 = GNB_classifer.fit(X_train_f_classif_100, y_train_f_classif_100)"
   ],
   "outputs": [],
   "execution_count": null
  },
  {
   "cell_type": "code",
   "metadata": {},
   "source": [
    "y_predicted_f_classif_100 = fitted_GNB_f_classif_100.predict(X_test_f_classif_100)"
   ],
   "outputs": [],
   "execution_count": null
  },
  {
   "cell_type": "code",
   "metadata": {},
   "source": "y_predicted_f_classif_100",
   "outputs": [],
   "execution_count": null
  },
  {
   "cell_type": "code",
   "metadata": {},
   "source": [
    "accuracy_prediction_f_classif_100 = accuracy_score(y_test_f_classif_100, y_predicted_f_classif_100)\n",
    "print(f\"accuracy_f_classif_100: {accuracy_prediction_f_classif_100}\")"
   ],
   "outputs": [],
   "execution_count": null
  },
  {
   "cell_type": "code",
   "metadata": {},
   "source": [
    "    feature_selection_SelectKBest_200 = SelectKBest(f_classif, k=20)\n",
    "    X_feature_selection_f_classif_200 = feature_selection_SelectKBest_200.fit_transform(X, y)\n",
    "    X_feature_selection_f_classif_200.shape\n",
    "    X_train_f_classif_200, X_test_f_classif_200,y_train_f_classif_200, y_test_f_classif_200 = train_test_split(X_feature_selection_f_classif_200,y, test_size=0.2)\n",
    "    print(f\"X_train_f_classif_200: {X_train_f_classif_200.shape}\")\n",
    "    print(f\"X_test_f_classif_200: {X_test_f_classif_200.shape}\")\n",
    "    print(f\"y_train_f_classif_200: {y_train_f_classif_200.shape}\")\n",
    "    print(f\"y_test_f_classif_200: {y_test_f_classif_200.shape}\")\n",
    "    fitted_GNB_f_classif_200 = GNB_classifer.fit(X_train_f_classif_200, y_train_f_classif_200)\n",
    "    y_predicted_f_classif_200 = fitted_GNB_f_classif_200.predict(X_test_f_classif_200)\n",
    "    accuracy_prediction_f_classif_200 = accuracy_score(y_test_f_classif_200, y_predicted_f_classif_200)\n",
    "    print(f\"accuracy_f_classif_200: {accuracy_prediction_f_classif_200}\")"
   ],
   "outputs": [],
   "execution_count": null
  },
  {
   "cell_type": "code",
   "metadata": {},
   "source": [
    "feature_selection_SelectKBest_300 = SelectKBest(f_classif, k=30)\n",
    "X_feature_selection_f_classif_300 = feature_selection_SelectKBest_300.fit_transform(X, y)\n",
    "X_feature_selection_f_classif_300.shape\n",
    "X_train_f_classif_300, X_test_f_classif_300,y_train_f_classif_300, y_test_f_classif_300 = train_test_split(X_feature_selection_f_classif_300,y, test_size=0.2)\n",
    "print(f\"X_train_f_classif_300: {X_train_f_classif_300.shape}\")\n",
    "print(f\"X_test_f_classif_300: {X_test_f_classif_300.shape}\")\n",
    "print(f\"y_train_f_classif_300: {y_train_f_classif_300.shape}\")\n",
    "print(f\"y_test_f_classif_300: {y_test_f_classif_300.shape}\")\n",
    "fitted_GNB_f_classif_300 = GNB_classifer.fit(X_train_f_classif_300, y_train_f_classif_300)\n",
    "y_predicted_f_classif_300 = fitted_GNB_f_classif_300.predict(X_test_f_classif_300)\n",
    "accuracy_prediction_f_classif_300 = accuracy_score(y_test_f_classif_300, y_predicted_f_classif_300)\n",
    "print(f\"accuracy_f_classif_300: {accuracy_prediction_f_classif_300}\")"
   ],
   "outputs": [],
   "execution_count": null
  },
  {
   "cell_type": "code",
   "metadata": {},
   "source": [
    "feature_selection_SelectKBest_400 = SelectKBest(f_classif, k=36)\n",
    "X_feature_selection_f_classif_400 = feature_selection_SelectKBest_400.fit_transform(X, y)\n",
    "X_feature_selection_f_classif_400.shape\n",
    "X_train_f_classif_400, X_test_f_classif_400,y_train_f_classif_400, y_test_f_classif_400 = train_test_split(X_feature_selection_f_classif_400,y, test_size=0.2)\n",
    "print(f\"X_train_f_classif_400: {X_train_f_classif_400.shape}\")\n",
    "print(f\"X_test_f_classif_400: {X_test_f_classif_400.shape}\")\n",
    "print(f\"y_train_f_classif_400: {y_train_f_classif_400.shape}\")\n",
    "print(f\"y_test_f_classif_400: {y_test_f_classif_400.shape}\")\n",
    "fitted_GNB_f_classif_400 = GNB_classifer.fit(X_train_f_classif_400, y_train_f_classif_400)\n",
    "y_predicted_f_classif_400 = fitted_GNB_f_classif_400.predict(X_test_f_classif_400)\n",
    "accuracy_prediction_f_classif_400 = accuracy_score(y_test_f_classif_400, y_predicted_f_classif_400)\n",
    "print(f\"accuracy_f_classif_400: {accuracy_prediction_f_classif_400}\")"
   ],
   "outputs": [],
   "execution_count": null
  },
  {
   "cell_type": "code",
   "metadata": {},
   "source": [
    "import matplotlib.pyplot as plt\n",
    "\n",
    "execution = (\"original data\", 'accuracy_100','accuracy_200',\n",
    "             'accuracy_300','accuracy_400')\n",
    "accuracy = [float(round(first_prediction*100,2)), float(round(accuracy_prediction_f_classif_100*100,2)), float(round(accuracy_prediction_f_classif_200*100,2)), \n",
    "            float(round(accuracy_prediction_f_classif_300*100,2)), float(round(accuracy_prediction_f_classif_400*100,2))]\n",
    "fig = plt.figure(figsize = (10, 5))\n",
    "plt.bar(execution,accuracy)\n",
    "\n",
    "for index, value in enumerate(accuracy):\n",
    "    plt.text(index, value,str(value))\n",
    "    \n",
    "plt.show()"
   ],
   "outputs": [],
   "execution_count": null
  },
  {
   "cell_type": "markdown",
   "metadata": {},
   "source": [
    "chi2"
   ]
  },
  {
   "cell_type": "code",
   "metadata": {},
   "source": [
    "from sklearn.feature_selection import chi2"
   ],
   "outputs": [],
   "execution_count": null
  },
  {
   "cell_type": "code",
   "metadata": {},
   "source": [
    "feature_selection_chi2_100 = SelectKBest(chi2, k=10)"
   ],
   "outputs": [],
   "execution_count": null
  },
  {
   "cell_type": "code",
   "metadata": {},
   "source": [
    "X_feature_selection_chi2_100 = feature_selection_chi2_100.fit_transform(X, y)\n",
    "X_feature_selection_chi2_100.shape"
   ],
   "outputs": [],
   "execution_count": null
  },
  {
   "cell_type": "code",
   "metadata": {},
   "source": [
    "min_of_columns = X.min()\n",
    "min_of_dataframe = min_of_columns.min()\n",
    "min_of_dataframe"
   ],
   "outputs": [],
   "execution_count": null
  },
  {
   "cell_type": "code",
   "metadata": {},
   "source": [
    "max_of_columns = X.max()\n",
    "max_of_dataframe = max_of_columns.max()\n",
    "max_of_dataframe"
   ],
   "outputs": [],
   "execution_count": null
  },
  {
   "cell_type": "markdown",
   "metadata": {},
   "source": [
    "> solution: MinMaxScaler"
   ]
  },
  {
   "cell_type": "code",
   "metadata": {},
   "source": [
    "from sklearn.preprocessing import MinMaxScaler\n",
    "\n",
    "\n",
    "scaler = MinMaxScaler()\n",
    "scaler.fit(X)\n",
    "scaled = scaler.fit_transform(X)\n",
    "X_max_min = pd.DataFrame(scaled, columns=X.columns)\n",
    "X_max_min"
   ],
   "outputs": [],
   "execution_count": null
  },
  {
   "cell_type": "code",
   "metadata": {},
   "source": [
    "feature_selection_SelectKBest_100 = SelectKBest(chi2, k=10)\n",
    "X_feature_selection_chi2_100 = feature_selection_SelectKBest_100.fit_transform(X_max_min, y)\n",
    "X_feature_selection_chi2_100.shape\n",
    "X_train_chi2_100, X_test_chi2_100,y_train_chi2_100, y_test_chi2_100 = train_test_split(X_feature_selection_chi2_100,y, test_size=0.2)\n",
    "print(f\"X_train_chi2_100: {X_train_chi2_100.shape}\")\n",
    "print(f\"X_test_chi2_100: {X_test_chi2_100.shape}\")\n",
    "print(f\"y_train_chi2_100: {y_train_chi2_100.shape}\")\n",
    "print(f\"y_test_chi2_100: {y_test_chi2_100.shape}\")\n",
    "fitted_GNB_chi2_100 = GNB_classifer.fit(X_train_chi2_100, y_train_chi2_100)\n",
    "y_predicted_chi2_100 = fitted_GNB_chi2_100.predict(X_test_chi2_100)\n",
    "accuracy_prediction_chi2_100 = accuracy_score(y_test_chi2_100, y_predicted_chi2_100)\n",
    "print(f\"accuracy_chi2_100: {accuracy_prediction_chi2_100}\")"
   ],
   "outputs": [],
   "execution_count": null
  },
  {
   "cell_type": "code",
   "metadata": {},
   "source": [
    "feature_selection_SelectKBest_200 = SelectKBest(chi2, k=20)\n",
    "X_feature_selection_chi2_200 = feature_selection_SelectKBest_200.fit_transform(X_max_min, y)\n",
    "X_feature_selection_chi2_200.shape\n",
    "X_train_chi2_200, X_test_chi2_200,y_train_chi2_200, y_test_chi2_200 = train_test_split(X_feature_selection_chi2_200,y, test_size=0.2)\n",
    "print(f\"X_train_chi2_200: {X_train_chi2_200.shape}\")\n",
    "print(f\"X_test_chi2_200: {X_test_chi2_200.shape}\")\n",
    "print(f\"y_train_chi2_200: {y_train_chi2_200.shape}\")\n",
    "print(f\"y_test_chi2_200: {y_test_chi2_200.shape}\")\n",
    "fitted_GNB_chi2_200 = GNB_classifer.fit(X_train_chi2_200, y_train_chi2_200)\n",
    "y_predicted_chi2_200 = fitted_GNB_chi2_200.predict(X_test_chi2_200)\n",
    "accuracy_prediction_chi2_200 = accuracy_score(y_test_chi2_200, y_predicted_chi2_200)\n",
    "print(f\"accuracy_chi2_200: {accuracy_prediction_chi2_200}\")"
   ],
   "outputs": [],
   "execution_count": null
  },
  {
   "cell_type": "code",
   "metadata": {},
   "source": [
    "feature_selection_SelectKBest_300 = SelectKBest(chi2, k=30)\n",
    "X_feature_selection_chi2_300 = feature_selection_SelectKBest_300.fit_transform(X_max_min, y)\n",
    "X_feature_selection_chi2_300.shape\n",
    "X_train_chi2_300, X_test_chi2_300,y_train_chi2_300, y_test_chi2_300 = train_test_split(X_feature_selection_chi2_300,y, test_size=0.2)\n",
    "print(f\"X_train_chi2_300: {X_train_chi2_300.shape}\")\n",
    "print(f\"X_test_chi2_300: {X_test_chi2_300.shape}\")\n",
    "print(f\"y_train_chi2_300: {y_train_chi2_300.shape}\")\n",
    "print(f\"y_test_chi2_300: {y_test_chi2_300.shape}\")\n",
    "fitted_GNB_chi2_300 = GNB_classifer.fit(X_train_chi2_300, y_train_chi2_300)\n",
    "y_predicted_chi2_300 = fitted_GNB_chi2_300.predict(X_test_chi2_300)\n",
    "accuracy_prediction_chi2_300 = accuracy_score(y_test_chi2_300, y_predicted_chi2_300)\n",
    "print(f\"accuracy_chi2_300: {accuracy_prediction_chi2_300}\")"
   ],
   "outputs": [],
   "execution_count": null
  },
  {
   "cell_type": "code",
   "metadata": {},
   "source": [
    "feature_selection_SelectKBest_400 = SelectKBest(chi2, k=36)\n",
    "X_feature_selection_chi2_400 = feature_selection_SelectKBest_400.fit_transform(X_max_min, y)\n",
    "X_feature_selection_chi2_400.shape\n",
    "X_train_chi2_400, X_test_chi2_400,y_train_chi2_400, y_test_chi2_400 = train_test_split(X_feature_selection_chi2_400,y, test_size=0.2)\n",
    "print(f\"X_train_chi2_400: {X_train_chi2_400.shape}\")\n",
    "print(f\"X_test_chi2_400: {X_test_chi2_400.shape}\")\n",
    "print(f\"y_train_chi2_400: {y_train_chi2_400.shape}\")\n",
    "print(f\"y_test_chi2_400: {y_test_chi2_400.shape}\")\n",
    "fitted_GNB_chi2_400 = GNB_classifer.fit(X_train_chi2_400, y_train_chi2_400)\n",
    "y_predicted_chi2_400 = fitted_GNB_chi2_400.predict(X_test_chi2_400)\n",
    "accuracy_prediction_chi2_400 = accuracy_score(y_test_chi2_400, y_predicted_chi2_400)\n",
    "print(f\"accuracy_chi2_400: {accuracy_prediction_chi2_400}\")"
   ],
   "outputs": [],
   "execution_count": null
  },
  {
   "cell_type": "code",
   "metadata": {},
   "source": [
    "import matplotlib.pyplot as plt\n",
    "\n",
    "execution = (\"original data\", 'accuracy_100','accuracy_200',\n",
    "             'accuracy_300','accuracy_400')\n",
    "accuracy = [float(round(first_prediction*100,2)), float(round(accuracy_prediction_chi2_100*100,2)), float(round(accuracy_prediction_chi2_200*100,2)), \n",
    "            float(round(accuracy_prediction_chi2_300*100,2)), float(round(accuracy_prediction_chi2_400*100,2))]\n",
    "fig = plt.figure(figsize = (10, 5))\n",
    "plt.bar(execution,accuracy)\n",
    "\n",
    "for index, value in enumerate(accuracy):\n",
    "    plt.text(index, value,str(value))\n",
    "    \n",
    "plt.show()"
   ],
   "outputs": [],
   "execution_count": null
  },
  {
   "cell_type": "markdown",
   "metadata": {},
   "source": [
    "mutual_info_classif"
   ]
  },
  {
   "cell_type": "code",
   "metadata": {},
   "source": [
    "from sklearn.feature_selection import mutual_info_classif\n",
    "\n",
    "feature_selection_SelectKBest_100 = SelectKBest(mutual_info_classif, k=10)\n",
    "X_feature_selection_mutual_info_classif_100 = feature_selection_SelectKBest_100.fit_transform(X_max_min, y)\n",
    "X_feature_selection_mutual_info_classif_100.shape\n",
    "X_train_mutual_info_classif_100, X_test_mutual_info_classif_100,y_train_mutual_info_classif_100, y_test_mutual_info_classif_100 = train_test_split(X_feature_selection_mutual_info_classif_100,y, test_size=0.2)\n",
    "print(f\"X_train_mutual_info_classif_100: {X_train_mutual_info_classif_100.shape}\")\n",
    "print(f\"X_test_mutual_info_classif_100: {X_test_mutual_info_classif_100.shape}\")\n",
    "print(f\"y_train_mutual_info_classif_100: {y_train_mutual_info_classif_100.shape}\")\n",
    "print(f\"y_test_mutual_info_classif_100: {y_test_mutual_info_classif_100.shape}\")\n",
    "fitted_GNB_mutual_info_classif_100 = GNB_classifer.fit(X_train_mutual_info_classif_100, y_train_mutual_info_classif_100)\n",
    "y_predicted_mutual_info_classif_100 = fitted_GNB_mutual_info_classif_100.predict(X_test_mutual_info_classif_100)\n",
    "accuracy_prediction_mutual_info_classif_100 = accuracy_score(y_test_mutual_info_classif_100, y_predicted_mutual_info_classif_100)\n",
    "print(f\"accuracy_mutual_info_classif_100: {accuracy_prediction_mutual_info_classif_100}\")"
   ],
   "outputs": [],
   "execution_count": null
  },
  {
   "cell_type": "code",
   "metadata": {},
   "source": [
    "feature_selection_SelectKBest_200 = SelectKBest(mutual_info_classif, k=20)\n",
    "X_feature_selection_mutual_info_classif_200 = feature_selection_SelectKBest_200.fit_transform(X_max_min, y)\n",
    "X_feature_selection_mutual_info_classif_200.shape\n",
    "X_train_mutual_info_classif_200, X_test_mutual_info_classif_200,y_train_mutual_info_classif_200, y_test_mutual_info_classif_200 = train_test_split(X_feature_selection_mutual_info_classif_200,y, test_size=0.2)\n",
    "print(f\"X_train_mutual_info_classif_200: {X_train_mutual_info_classif_200.shape}\")\n",
    "print(f\"X_test_mutual_info_classif_200: {X_test_mutual_info_classif_200.shape}\")\n",
    "print(f\"y_train_mutual_info_classif_200: {y_train_mutual_info_classif_200.shape}\")\n",
    "print(f\"y_test_mutual_info_classif_200: {y_test_mutual_info_classif_200.shape}\")\n",
    "fitted_GNB_mutual_info_classif_200 = GNB_classifer.fit(X_train_mutual_info_classif_200, y_train_mutual_info_classif_200)\n",
    "y_predicted_mutual_info_classif_200 = fitted_GNB_mutual_info_classif_200.predict(X_test_mutual_info_classif_200)\n",
    "accuracy_prediction_mutual_info_classif_200 = accuracy_score(y_test_mutual_info_classif_200, y_predicted_mutual_info_classif_200)\n",
    "print(f\"accuracy_mutual_info_classif_200: {accuracy_prediction_mutual_info_classif_200}\")"
   ],
   "outputs": [],
   "execution_count": null
  },
  {
   "cell_type": "code",
   "metadata": {},
   "source": [
    "feature_selection_SelectKBest_300 = SelectKBest(mutual_info_classif, k=30)\n",
    "X_feature_selection_mutual_info_classif_300 = feature_selection_SelectKBest_300.fit_transform(X_max_min, y)\n",
    "X_feature_selection_mutual_info_classif_300.shape\n",
    "X_train_mutual_info_classif_300, X_test_mutual_info_classif_300,y_train_mutual_info_classif_300, y_test_mutual_info_classif_300 = train_test_split(X_feature_selection_mutual_info_classif_300,y, test_size=0.2)\n",
    "print(f\"X_train_mutual_info_classif_300: {X_train_mutual_info_classif_300.shape}\")\n",
    "print(f\"X_test_mutual_info_classif_300: {X_test_mutual_info_classif_300.shape}\")\n",
    "print(f\"y_train_mutual_info_classif_300: {y_train_mutual_info_classif_300.shape}\")\n",
    "print(f\"y_test_mutual_info_classif_300: {y_test_mutual_info_classif_300.shape}\")\n",
    "fitted_GNB_mutual_info_classif_300 = GNB_classifer.fit(X_train_mutual_info_classif_300, y_train_mutual_info_classif_300)\n",
    "y_predicted_mutual_info_classif_300 = fitted_GNB_mutual_info_classif_300.predict(X_test_mutual_info_classif_300)\n",
    "accuracy_prediction_mutual_info_classif_300 = accuracy_score(y_test_mutual_info_classif_300, y_predicted_mutual_info_classif_300)\n",
    "print(f\"accuracy_mutual_info_classif_300: {accuracy_prediction_mutual_info_classif_300}\")"
   ],
   "outputs": [],
   "execution_count": null
  },
  {
   "cell_type": "code",
   "metadata": {},
   "source": [
    "feature_selection_SelectKBest_400 = SelectKBest(mutual_info_classif, k=36)\n",
    "X_feature_selection_mutual_info_classif_400 = feature_selection_SelectKBest_400.fit_transform(X_max_min, y)\n",
    "X_feature_selection_mutual_info_classif_400.shape\n",
    "X_train_mutual_info_classif_400, X_test_mutual_info_classif_400,y_train_mutual_info_classif_400, y_test_mutual_info_classif_400 = train_test_split(X_feature_selection_mutual_info_classif_400,y, test_size=0.2)\n",
    "print(f\"X_train_mutual_info_classif_400: {X_train_mutual_info_classif_400.shape}\")\n",
    "print(f\"X_test_mutual_info_classif_400: {X_test_mutual_info_classif_400.shape}\")\n",
    "print(f\"y_train_mutual_info_classif_400: {y_train_mutual_info_classif_400.shape}\")\n",
    "print(f\"y_test_mutual_info_classif_400: {y_test_mutual_info_classif_400.shape}\")\n",
    "fitted_GNB_mutual_info_classif_400 = GNB_classifer.fit(X_train_mutual_info_classif_400, y_train_mutual_info_classif_400)\n",
    "y_predicted_mutual_info_classif_400 = fitted_GNB_mutual_info_classif_400.predict(X_test_mutual_info_classif_400)\n",
    "accuracy_prediction_mutual_info_classif_400 = accuracy_score(y_test_mutual_info_classif_400, y_predicted_mutual_info_classif_400)\n",
    "print(f\"accuracy_mutual_info_classif_400: {accuracy_prediction_mutual_info_classif_400}\")"
   ],
   "outputs": [],
   "execution_count": null
  },
  {
   "cell_type": "code",
   "metadata": {},
   "source": [
    "execution = (\"original data\", 'accuracy_100','accuracy_200',\n",
    "             'accuracy_300','accuracy_400')\n",
    "accuracy = [float(round(first_prediction*100,2)), float(round(accuracy_prediction_mutual_info_classif_100*100,2)), float(round(accuracy_prediction_mutual_info_classif_200*100,2)), \n",
    "            float(round(accuracy_prediction_mutual_info_classif_300*100,2)), float(round(accuracy_prediction_mutual_info_classif_400*100,2))]\n",
    "fig = plt.figure(figsize = (10, 5))\n",
    "plt.bar(execution,accuracy)\n",
    "\n",
    "for index, value in enumerate(accuracy):\n",
    "    plt.text(index, value,str(value))\n",
    "    \n",
    "plt.show()"
   ],
   "outputs": [],
   "execution_count": null
  },
  {
   "cell_type": "markdown",
   "metadata": {
    "execution": {
     "iopub.execute_input": "2023-04-16T20:28:46.040269Z",
     "iopub.status.busy": "2023-04-16T20:28:46.039036Z",
     "iopub.status.idle": "2023-04-16T20:28:46.046767Z",
     "shell.execute_reply": "2023-04-16T20:28:46.045246Z",
     "shell.execute_reply.started": "2023-04-16T20:28:46.040219Z"
    }
   },
   "source": [
    "Summary of Kbest"
   ]
  },
  {
   "cell_type": "code",
   "metadata": {},
   "source": [
    "execution = (\"original data\", 'f_classif_100','f_classif_200',\n",
    "             'f_classif_300','f_classif_400','chi2_100','chi2_200',\n",
    "             'chi2_300','chi2_400','mutual_100','mutual_200',\n",
    "             'mutual_300','mutual_400')\n",
    "accuracy = [float(round(first_prediction*100,2)), float(round(accuracy_prediction_f_classif_100*100,2)), float(round(accuracy_prediction_f_classif_200*100,2)), \n",
    "            float(round(accuracy_prediction_f_classif_300*100,2)), float(round(accuracy_prediction_f_classif_400*100,2)), float(round(accuracy_prediction_chi2_100*100,2)), float(round(accuracy_prediction_chi2_200*100,2)), \n",
    "            float(round(accuracy_prediction_chi2_300*100,2)), float(round(accuracy_prediction_chi2_400*100,2)), float(round(accuracy_prediction_mutual_info_classif_100*100,2)), float(round(accuracy_prediction_mutual_info_classif_200*100,2)), \n",
    "            float(round(accuracy_prediction_mutual_info_classif_300*100,2)), float(round(accuracy_prediction_mutual_info_classif_400*100,2))]\n",
    "fig = plt.figure(figsize = (20, 5))\n",
    "plt.bar(execution,accuracy)\n",
    "\n",
    "for index, value in enumerate(accuracy):\n",
    "    plt.text(index, value,str(value))\n",
    "    \n",
    "plt.show()"
   ],
   "outputs": [],
   "execution_count": null
  },
  {
   "cell_type": "code",
   "metadata": {},
   "source": [
    "from sklearn.feature_selection import SelectPercentile"
   ],
   "outputs": [],
   "execution_count": null
  },
  {
   "cell_type": "code",
   "metadata": {},
   "source": [
    "feature_selection_SelectPercentile_25 = SelectPercentile(f_classif, percentile=25)\n",
    "X_feature_selection_f_classif_25 = feature_selection_SelectPercentile_25.fit_transform(X, y)\n",
    "X_feature_selection_f_classif_25.shape\n",
    "X_train_f_classif_25, X_test_f_classif_25,y_train_f_classif_25, y_test_f_classif_25 = train_test_split(X_feature_selection_f_classif_25,y, test_size=0.2)\n",
    "print(f\"X_train_f_classif_25: {X_train_f_classif_25.shape}\")\n",
    "print(f\"X_test_f_classif_25: {X_test_f_classif_25.shape}\")\n",
    "print(f\"y_train_f_classif_25: {y_train_f_classif_25.shape}\")\n",
    "print(f\"y_test_f_classif_25: {y_test_f_classif_25.shape}\")\n",
    "fitted_GNB_f_classif_25 = GNB_classifer.fit(X_train_f_classif_25, y_train_f_classif_25)\n",
    "y_predicted_f_classif_25 = fitted_GNB_f_classif_25.predict(X_test_f_classif_25)\n",
    "accuracy_prediction_f_classif_25 = accuracy_score(y_test_f_classif_25, y_predicted_f_classif_25)\n",
    "print(f\"accuracy_f_classif_25: {accuracy_prediction_f_classif_25}\")"
   ],
   "outputs": [],
   "execution_count": null
  },
  {
   "cell_type": "code",
   "metadata": {},
   "source": [
    "feature_selection_SelectPercentile_50 = SelectPercentile(f_classif, percentile=50)\n",
    "X_feature_selection_f_classif_50 = feature_selection_SelectPercentile_50.fit_transform(X, y)\n",
    "X_feature_selection_f_classif_50.shape\n",
    "X_train_f_classif_50, X_test_f_classif_50,y_train_f_classif_50, y_test_f_classif_50 = train_test_split(X_feature_selection_f_classif_50,y, test_size=0.2)\n",
    "print(f\"X_train_f_classif_50: {X_train_f_classif_50.shape}\")\n",
    "print(f\"X_test_f_classif_50: {X_test_f_classif_50.shape}\")\n",
    "print(f\"y_train_f_classif_50: {y_train_f_classif_50.shape}\")\n",
    "print(f\"y_test_f_classif_50: {y_test_f_classif_50.shape}\")\n",
    "fitted_GNB_f_classif_50 = GNB_classifer.fit(X_train_f_classif_50, y_train_f_classif_50)\n",
    "y_predicted_f_classif_50 = fitted_GNB_f_classif_50.predict(X_test_f_classif_50)\n",
    "accuracy_prediction_f_classif_50 = accuracy_score(y_test_f_classif_50, y_predicted_f_classif_50)\n",
    "print(f\"accuracy_f_classif_50: {accuracy_prediction_f_classif_50}\")"
   ],
   "outputs": [],
   "execution_count": null
  },
  {
   "cell_type": "code",
   "metadata": {},
   "source": [
    "feature_selection_SelectPercentile_75 = SelectPercentile(f_classif, percentile=75)\n",
    "X_feature_selection_f_classif_75 = feature_selection_SelectPercentile_75.fit_transform(X, y)\n",
    "X_feature_selection_f_classif_75.shape\n",
    "X_train_f_classif_75, X_test_f_classif_75,y_train_f_classif_75, y_test_f_classif_75 = train_test_split(X_feature_selection_f_classif_75,y, test_size=0.2)\n",
    "print(f\"X_train_f_classif_75: {X_train_f_classif_75.shape}\")\n",
    "print(f\"X_test_f_classif_75: {X_test_f_classif_75.shape}\")\n",
    "print(f\"y_train_f_classif_75: {y_train_f_classif_75.shape}\")\n",
    "print(f\"y_test_f_classif_75: {y_test_f_classif_75.shape}\")\n",
    "fitted_GNB_f_classif_75 = GNB_classifer.fit(X_train_f_classif_75, y_train_f_classif_75)\n",
    "y_predicted_f_classif_75 = fitted_GNB_f_classif_75.predict(X_test_f_classif_75)\n",
    "accuracy_prediction_f_classif_75 = accuracy_score(y_test_f_classif_75, y_predicted_f_classif_75)\n",
    "print(f\"accuracy_f_classif_75: {accuracy_prediction_f_classif_75}\")"
   ],
   "outputs": [],
   "execution_count": null
  },
  {
   "cell_type": "code",
   "metadata": {},
   "source": [
    "execution = (\"original data\", 'accuracy_25P','accuracy_50P',\n",
    "             'accuracy_75P')\n",
    "accuracy = [float(round(first_prediction*100,2)), float(round(accuracy_prediction_f_classif_25*100,2)), float(round(accuracy_prediction_f_classif_50*100,2)), \n",
    "            float(round(accuracy_prediction_f_classif_75*100,2))]\n",
    "fig = plt.figure(figsize = (10, 5))\n",
    "plt.bar(execution,accuracy)\n",
    "\n",
    "for index, value in enumerate(accuracy):\n",
    "    plt.text(index, value,str(value))\n",
    "    \n",
    "plt.show()"
   ],
   "outputs": [],
   "execution_count": null
  },
  {
   "cell_type": "markdown",
   "metadata": {},
   "source": [
    "# PCA"
   ]
  },
  {
   "cell_type": "code",
   "metadata": {},
   "source": [
    "from sklearn import decomposition"
   ],
   "outputs": [],
   "execution_count": null
  },
  {
   "cell_type": "code",
   "metadata": {},
   "source": [
    "pca_100 = decomposition.PCA(n_components=10)\n",
    "pca_100.fit(X)\n",
    "X_pca_100 = pca_100.transform(X)"
   ],
   "outputs": [],
   "execution_count": null
  },
  {
   "cell_type": "code",
   "metadata": {},
   "source": [
    "X_pca_100.shape"
   ],
   "outputs": [],
   "execution_count": null
  },
  {
   "cell_type": "code",
   "metadata": {},
   "source": [
    "X_train_pca_100, X_test_pca_100,y_train_pca_100, y_test_pca_100 = train_test_split(X_pca_100,y, test_size=0.2)"
   ],
   "outputs": [],
   "execution_count": null
  },
  {
   "cell_type": "code",
   "metadata": {},
   "source": [
    "print(f\"X_train_pca_100: {X_train_pca_100.shape}\")\n",
    "print(f\"X_test_pca_100: {X_test_pca_100.shape}\")\n",
    "print(f\"y_train_pca_100: {y_train_pca_100.shape}\")\n",
    "print(f\"y_test_pca_100: {y_test_pca_100.shape}\")"
   ],
   "outputs": [],
   "execution_count": null
  },
  {
   "cell_type": "code",
   "metadata": {},
   "source": [
    "fitted_GNB_pca_100 = GNB_classifer.fit(X_train_pca_100, y_train_pca_100)"
   ],
   "outputs": [],
   "execution_count": null
  },
  {
   "cell_type": "code",
   "metadata": {},
   "source": [
    "y_predicted_pca_100 = fitted_GNB_pca_100.predict(X_test_pca_100)"
   ],
   "outputs": [],
   "execution_count": null
  },
  {
   "cell_type": "code",
   "metadata": {},
   "source": [
    "accuracy_prediction_pca_100 = accuracy_score(y_test_pca_100, y_predicted_pca_100)\n",
    "print(f\"accuracy_pca_100: {accuracy_prediction_pca_100}\")"
   ],
   "outputs": [],
   "execution_count": null
  },
  {
   "cell_type": "code",
   "metadata": {},
   "source": [
    "pca_200 = decomposition.PCA(n_components=20)\n",
    "pca_200.fit(X)\n",
    "X_pca_200 = pca_200.transform(X)\n",
    "X_train_pca_200, X_test_pca_200,y_train_pca_200, y_test_pca_200 = train_test_split(X_pca_200,y, test_size=0.2)\n",
    "print(f\"X_train_pca_200: {X_train_pca_200.shape}\")\n",
    "print(f\"X_test_pca_200: {X_test_pca_200.shape}\")\n",
    "print(f\"y_train_pca_200: {y_train_pca_200.shape}\")\n",
    "print(f\"y_test_pca_200: {y_test_pca_200.shape}\")\n",
    "fitted_GNB_pca_200 = GNB_classifer.fit(X_train_pca_200, y_train_pca_200)\n",
    "y_predicted_pca_200 = fitted_GNB_pca_200.predict(X_test_pca_200)\t\n",
    "accuracy_prediction_pca_200 = accuracy_score(y_test_pca_200, y_predicted_pca_200)\n",
    "print(f\"accuracy_pca_200: {accuracy_prediction_pca_200}\")"
   ],
   "outputs": [],
   "execution_count": null
  },
  {
   "cell_type": "code",
   "metadata": {},
   "source": [
    "pca_300 = decomposition.PCA(n_components=30)\n",
    "pca_300.fit(X)\n",
    "X_pca_300 = pca_300.transform(X)\n",
    "X_train_pca_300, X_test_pca_300,y_train_pca_300, y_test_pca_300 = train_test_split(X_pca_300,y, test_size=0.2)\n",
    "print(f\"X_train_pca_300: {X_train_pca_300.shape}\")\n",
    "print(f\"X_test_pca_300: {X_test_pca_300.shape}\")\n",
    "print(f\"y_train_pca_300: {y_train_pca_300.shape}\")\n",
    "print(f\"y_test_pca_300: {y_test_pca_300.shape}\")\n",
    "fitted_GNB_pca_300 = GNB_classifer.fit(X_train_pca_300, y_train_pca_300)\n",
    "y_predicted_pca_300 = fitted_GNB_pca_300.predict(X_test_pca_300)\t\n",
    "accuracy_prediction_pca_300 = accuracy_score(y_test_pca_300, y_predicted_pca_300)\n",
    "print(f\"accuracy_pca_300: {accuracy_prediction_pca_300}\")"
   ],
   "outputs": [],
   "execution_count": null
  },
  {
   "cell_type": "code",
   "metadata": {},
   "source": [
    "pca_400 = decomposition.PCA(n_components=37)\n",
    "pca_400.fit(X)\n",
    "X_pca_400 = pca_400.transform(X)\n",
    "X_train_pca_400, X_test_pca_400,y_train_pca_400, y_test_pca_400 = train_test_split(X_pca_400,y, test_size=0.2)\n",
    "print(f\"X_train_pca_400: {X_train_pca_400.shape}\")\n",
    "print(f\"X_test_pca_400: {X_test_pca_400.shape}\")\n",
    "print(f\"y_train_pca_400: {y_train_pca_400.shape}\")\n",
    "print(f\"y_test_pca_400: {y_test_pca_400.shape}\")\n",
    "fitted_GNB_pca_400 = GNB_classifer.fit(X_train_pca_400, y_train_pca_400)\n",
    "y_predicted_pca_400 = fitted_GNB_pca_400.predict(X_test_pca_400)\t\n",
    "accuracy_prediction_pca_400 = accuracy_score(y_test_pca_400, y_predicted_pca_400)\n",
    "print(f\"accuracy_pca_400: {accuracy_prediction_pca_400}\")"
   ],
   "outputs": [],
   "execution_count": null
  },
  {
   "cell_type": "code",
   "metadata": {},
   "source": [
    "execution = (\"original data\", 'accuracy_100','accuracy_200',\n",
    "             'accuracy_300','accuracy_400')\n",
    "accuracy = [float(round(first_prediction*100,2)), float(round(accuracy_prediction_pca_100*100,2)), float(round(accuracy_prediction_pca_200*100,2)), \n",
    "            float(round(accuracy_prediction_pca_300*100,2)), float(round(accuracy_prediction_pca_400*100,2))]\n",
    "fig = plt.figure(figsize = (10, 5))\n",
    "plt.bar(execution,accuracy)\n",
    "\n",
    "for index, value in enumerate(accuracy):\n",
    "    plt.text(index, value,str(value))\n",
    "    \n",
    "plt.show()"
   ],
   "outputs": [],
   "execution_count": null
  },
  {
   "cell_type": "markdown",
   "metadata": {},
   "source": [
    "# Linear Discriminant Analysis."
   ]
  },
  {
   "cell_type": "code",
   "metadata": {},
   "source": [
    "from sklearn.discriminant_analysis import LinearDiscriminantAnalysis"
   ],
   "outputs": [],
   "execution_count": null
  },
  {
   "cell_type": "code",
   "metadata": {},
   "source": [
    "clf_lda = LinearDiscriminantAnalysis()"
   ],
   "outputs": [],
   "execution_count": null
  },
  {
   "cell_type": "code",
   "metadata": {},
   "source": [
    "fitted_clf_lda = clf_lda.fit(X_train, y_train)"
   ],
   "outputs": [],
   "execution_count": null
  },
  {
   "cell_type": "code",
   "metadata": {},
   "source": [
    "y_predicted_lda = fitted_clf_lda.predict(X_test)"
   ],
   "outputs": [],
   "execution_count": null
  },
  {
   "cell_type": "code",
   "metadata": {},
   "source": [
    "lda_prediction = accuracy_score(y_test, y_predicted_lda)\n",
    "print(lda_prediction)"
   ],
   "outputs": [],
   "execution_count": null
  }
 ],
 "metadata": {
  "kernelspec": {
   "display_name": "Python 3 (ipykernel)",
   "language": "python",
   "name": "python3"
  },
  "language_info": {
   "codemirror_mode": {
    "name": "ipython",
    "version": 3
   },
   "file_extension": ".py",
   "mimetype": "text/x-python",
   "name": "python",
   "nbconvert_exporter": "python",
   "pygments_lexer": "ipython3",
   "version": "3.9.15"
  }
 },
 "nbformat": 4,
 "nbformat_minor": 4
}
